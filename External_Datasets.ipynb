{
 "cells": [
  {
   "cell_type": "code",
   "execution_count": 1,
   "id": "601e7e1e",
   "metadata": {},
   "outputs": [],
   "source": [
    "import numpy as np\n",
    "import pandas as pd\n",
    "\n",
    "import seaborn as sns\n",
    "import matplotlib.pyplot as plt"
   ]
  },
  {
   "cell_type": "code",
   "execution_count": 2,
   "id": "56824b54",
   "metadata": {},
   "outputs": [],
   "source": [
    "def get_gpu_prices():\n",
    "    data = pd.read_csv('./Data/gpu_prices/FACT_GPU_PRICE.csv')\n",
    "    time_data = pd.read_csv('./Data/gpu_prices/DIM_TIME.csv')\n",
    "    prod_data = pd.read_csv('./Data/gpu_prices/DIM_GPU_PROD.csv')\n",
    "    region_data = pd.read_csv('./Data/gpu_prices/DIM_REGION.csv')\n",
    "    prod_data['Memory_Capacity_category'] = prod_data['Memory_Capacity'].apply(lambda x: 'high' if x >= 10 else 'medium' if x >=2 else 'low')\n",
    "    merged_data = pd.merge(data, time_data, how = 'left', left_on = 'TimeId', right_on = 'Id')\n",
    "    merged_data = pd.merge(merged_data, prod_data, how = 'left', left_on = 'ProdId', right_on = 'Id')\n",
    "    merged_data = pd.merge(merged_data, region_data, how = 'left', left_on = 'RegionId', right_on = 'Id')\n",
    "\n",
    "    country_code_name_map = {\n",
    "        'au': 'Australia',\n",
    "        'be': 'Belgium',\n",
    "        'ca': 'Canada',\n",
    "        'de': 'Germany',\n",
    "        'es': 'Spain',\n",
    "        'fr': 'France',\n",
    "        'ie': 'Ireland',\n",
    "        'it': 'Italy',\n",
    "        'nz': 'New Zealand',\n",
    "        'uk': 'United Kingdom of Great Britain and Northern Ireland',\n",
    "        'us': 'United States of America'\n",
    "    }\n",
    "    merged_data['Code'] = merged_data['Code'].map(country_code_name_map)\n",
    "    merged_data = merged_data[merged_data['Code'] != 'New Zealand']\n",
    "    merged_data['BigMac_index'] = merged_data['Code'].map(bigmac_idx)\n",
    "    merged_data['ppp_price'] = merged_data['Price_USD'] * (1 + (merged_data['BigMac_index'] / 100.0))\n",
    "#     fig, ax = plt.subplots(1, 1, figsize = (10, 10))\n",
    "#     sns.boxplot(x = 'Memory_Capacity_category', y = 'ppp_price', data = merged_data, ax = ax)\n",
    "#     plt.show()\n",
    "#     merged_data = merged_data.groupby(['Memory_Capacity_category'])['ppp_price'].aggregate('median').reset_index(drop = False)\n",
    "#     print(merged_data)\n",
    "    return merged_data"
   ]
  },
  {
   "cell_type": "code",
   "execution_count": 4,
   "id": "a84cdb93",
   "metadata": {},
   "outputs": [],
   "source": [
    "def get_student_age_data():\n",
    "    data = pd.read_csv('./Data/student_age.csv')\n",
    "    ug_data = data[data['Course'] == 'UG']\n",
    "    pg_data = data[data['Course'] == 'PG']\n",
    "    pg_data = pg_data.assign(Neg_Composition = -pg_data['Composition'])\n",
    "    return ug_data, pg_data"
   ]
  },
  {
   "cell_type": "code",
   "execution_count": 9,
   "id": "1f50f478",
   "metadata": {},
   "outputs": [
    {
     "data": {
      "image/png": "[encoded data removed]",
      "text/plain": [
       "<Figure size 1080x720 with 1 Axes>"
      ]
     },
     "metadata": {
      "needs_background": "light"
     },
     "output_type": "display_data"
    }
   ],
   "source": [
    "fig, ax = plt.subplots(1, 1, figsize = (15, 10))\n",
    "sns.barplot(x = 'Age', y = 'Composition', data = ug_data, ax = ax)\n",
    "sns.barplot(x = 'Age', y = 'Neg_Composition', data = pg_data, ax = ax)\n",
    "ax.axhline(0, color = 'black')\n",
    "plt.show()"
   ]
  },
  {
   "cell_type": "code",
   "execution_count": null,
   "id": "6ffb14f1",
   "metadata": {},
   "outputs": [],
   "source": []
  }
 ],
 "metadata": {
  "kernelspec": {
   "display_name": "Kaggle ML&DL Survey Python",
   "language": "python",
   "name": "kaggle_survey_python"
  },
  "language_info": {
   "codemirror_mode": {
    "name": "ipython",
    "version": 3
   },
   "file_extension": ".py",
   "mimetype": "text/x-python",
   "name": "python",
   "nbconvert_exporter": "python",
   "pygments_lexer": "ipython3",
   "version": "3.8.8"
  }
 },
 "nbformat": 4,
 "nbformat_minor": 5
}
