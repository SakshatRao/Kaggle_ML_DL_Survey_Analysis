{
 "cells": [
  {
   "cell_type": "code",
   "execution_count": 1,
   "id": "021af304",
   "metadata": {},
   "outputs": [],
   "source": [
    "import numpy as np\n",
    "import pandas as pd\n",
    "\n",
    "import matplotlib.pyplot as plt\n",
    "import seaborn as sns\n",
    "\n",
    "from utils import *\n",
    "from graphing_utils import *\n",
    "from plots import *\n",
    "\n",
    "import rpy2\n",
    "%load_ext rpy2.ipython"
   ]
  },
  {
   "cell_type": "markdown",
   "id": "d376d43b",
   "metadata": {},
   "source": [
    "<div align='center' style=\"background-image: url('./blood.webp');\">\n",
    "    <font size='+3' color='#dd0000'>\n",
    "        <b>The SpecAccs Murder Conspiracy! 🔪</b>\n",
    "    </font>\n",
    "    <br>\n",
    "    <font size='+2.5' color='#FBAB60'>\n",
    "        <b>A Short Data Analytics Comic</b>\n",
    "    </font>\n",
    "</div>"
   ]
  },
  {
   "cell_type": "markdown",
   "id": "b33641aa",
   "metadata": {},
   "source": [
    "# Starts from below"
   ]
  },
  {
   "cell_type": "code",
   "execution_count": 2,
   "id": "f524a331",
   "metadata": {},
   "outputs": [
    {
     "name": "stderr",
     "output_type": "stream",
     "text": [
      "R[write to console]: ── \u001b[1mAttaching packages\u001b[22m ─────────────────────────────────────── tidyverse 1.3.1 ──\n",
      "\n",
      "R[write to console]: \u001b[32m✔\u001b[39m \u001b[34mggplot2\u001b[39m 3.3.5     \u001b[32m✔\u001b[39m \u001b[34mpurrr  \u001b[39m 0.3.4\n",
      "\u001b[32m✔\u001b[39m \u001b[34mtibble \u001b[39m 3.1.5     \u001b[32m✔\u001b[39m \u001b[34mdplyr  \u001b[39m 1.0.7\n",
      "\u001b[32m✔\u001b[39m \u001b[34mtidyr  \u001b[39m 1.1.4     \u001b[32m✔\u001b[39m \u001b[34mstringr\u001b[39m 1.4.0\n",
      "\u001b[32m✔\u001b[39m \u001b[34mreadr  \u001b[39m 2.0.2     \u001b[32m✔\u001b[39m \u001b[34mforcats\u001b[39m 0.5.1\n",
      "\n",
      "R[write to console]: ── \u001b[1mConflicts\u001b[22m ────────────────────────────────────────── tidyverse_conflicts() ──\n",
      "\u001b[31m✖\u001b[39m \u001b[34mdplyr\u001b[39m::\u001b[32mfilter()\u001b[39m masks \u001b[34mstats\u001b[39m::filter()\n",
      "\u001b[31m✖\u001b[39m \u001b[34mdplyr\u001b[39m::\u001b[32mlag()\u001b[39m    masks \u001b[34mstats\u001b[39m::lag()\n",
      "\n",
      "R[write to console]: Loading required package: scales\n",
      "\n",
      "R[write to console]: \n",
      "Attaching package: ‘scales’\n",
      "\n",
      "\n",
      "R[write to console]: The following object is masked from ‘package:purrr’:\n",
      "\n",
      "    discard\n",
      "\n",
      "\n",
      "R[write to console]: The following object is masked from ‘package:readr’:\n",
      "\n",
      "    col_factor\n",
      "\n",
      "\n",
      "R[write to console]: Loading required package: rmarkdown\n",
      "\n",
      "R[write to console]: \n",
      "Attaching package: ‘frs’\n",
      "\n",
      "\n",
      "R[write to console]: The following object is masked from ‘package:scales’:\n",
      "\n",
      "    modulus_trans\n",
      "\n",
      "\n",
      "R[write to console]: Loading required package: MASS\n",
      "\n",
      "R[write to console]: \n",
      "Attaching package: ‘MASS’\n",
      "\n",
      "\n",
      "R[write to console]: The following object is masked from ‘package:dplyr’:\n",
      "\n",
      "    select\n",
      "\n",
      "\n",
      "R[write to console]: Loading required package: survival\n",
      "\n",
      "R[write to console]: \n",
      "Attaching package: ‘kableExtra’\n",
      "\n",
      "\n",
      "R[write to console]: The following object is masked from ‘package:dplyr’:\n",
      "\n",
      "    group_rows\n",
      "\n",
      "\n",
      "R[write to console]: Welcome to clipr. See ?write_clip for advisories on writing to the clipboard in R.\n",
      "\n"
     ]
    }
   ],
   "source": [
    "%%R\n",
    "\n",
    "library(tidyverse)\n",
    "library(multidplyr)\n",
    "library(frs)\n",
    "library(fitdistrplus)\n",
    "library(knitr)\n",
    "library(readxl)\n",
    "library(kableExtra)\n",
    "library(clipr)"
   ]
  },
  {
   "cell_type": "code",
   "execution_count": 3,
   "id": "ca3bc35f",
   "metadata": {},
   "outputs": [],
   "source": [
    "# Importing data processing libraries\n",
    "import numpy as np\n",
    "import pandas as pd"
   ]
  },
  {
   "cell_type": "code",
   "execution_count": 4,
   "id": "c38f36ea",
   "metadata": {},
   "outputs": [
    {
     "name": "stderr",
     "output_type": "stream",
     "text": [
      "/home/sakshat/anaconda3/envs/Kaggle_Survey_Python/lib/python3.8/site-packages/IPython/core/interactiveshell.py:3165: DtypeWarning: Columns (195,201) have mixed types.Specify dtype option on import or set low_memory=False.\n",
      "  has_raised = await self.run_ast_nodes(code_ast.body, cell_name,\n"
     ]
    }
   ],
   "source": [
    "# Loading datasets\n",
    "#   1. Kaggle ML & DL Survey 2021\n",
    "#   2. Big Mac Index\n",
    "#   3. Graduate Age Dataset\n",
    "#   4. GPU Pricing Dataset\n",
    "\n",
    "# Kaggle ML & DL Survey 2021 Data\n",
    "#   Info: 2021\n",
    "#   Link: https://www.kaggle.com/c/kaggle-survey-2021/data\n",
    "def data_processing_func(data):\n",
    "    cols = [*data.columns]\n",
    "    group_cols = [x for x in cols if 'Selected Choice' in x]\n",
    "    group_cols_main_ques = [x.split(' - Selected Choice')[0] for x in group_cols]\n",
    "    group_cols_uniq_main_ques = np.unique(group_cols_main_ques)\n",
    "    \n",
    "    def group_cols_func(x):\n",
    "        answer_list = []\n",
    "        for col in x.keys():\n",
    "            if(pd.isnull(x[col]) == False):\n",
    "                answer_list.append(x[col])\n",
    "        return ' | '.join(answer_list)\n",
    "\n",
    "    grouped_cols_df = pd.DataFrame()\n",
    "    for ques_idx, ques in enumerate(group_cols_uniq_main_ques):\n",
    "        ques_group_cols = [x for x in group_cols if x.startswith(ques)]\n",
    "        grouped_col_df = data[ques_group_cols].apply(group_cols_func, axis = 1)\n",
    "        grouped_cols_df = pd.concat([grouped_cols_df, grouped_col_df], axis = 1)\n",
    "    grouped_cols_df.columns = group_cols_uniq_main_ques\n",
    "    \n",
    "    data = data.drop(group_cols, axis = 1)\n",
    "    data = pd.concat([data, grouped_cols_df], axis = 1)\n",
    "    return data\n",
    "raw_data = pd.read_csv('./Data/kaggle-survey-2021/kaggle_survey_2021_responses.csv', header = [0], skiprows = [0])\n",
    "data = data_processing_func(raw_data)\n",
    "data_questions = data.columns\n",
    "data.columns = [f'Q_{x}' for x in range(data.shape[1])]\n",
    "raw_data['kaggler_id'] = pd.Series(np.arange(raw_data.shape[0]))\n",
    "data['kaggler_id'] = pd.Series(np.arange(data.shape[0]))\n",
    "\n",
    "# Big Mac Index\n",
    "#   Info: GDP-adjusted, Jul 2021\n",
    "#   Link: https://www.economist.com/big-mac-index\n",
    "bigmac_idx = {\n",
    "    'India': -18.4,\n",
    "    'Indonesia': -26.8,\n",
    "    'Pakistan': 16.5,\n",
    "    'Mexico': -6.1,\n",
    "    'Russia': -34.3,\n",
    "    'Turkey': -31.1,\n",
    "    'Australia': -8.1,\n",
    "    'Nigeria': np.nan,\n",
    "    'Greece': 9.2,\n",
    "    'Belgium': 9.2,\n",
    "    'Japan': -24.4,\n",
    "    'Egypt': -14.9,\n",
    "    'Singapore': -21.1,\n",
    "    'Brazil': 31.5,\n",
    "    'Poland': -6.7,\n",
    "    'China': -0.4,\n",
    "    'Iran, Islamic Republic of...': np.nan,\n",
    "    'United States of America': 0,\n",
    "    'Italy': 9.2,\n",
    "    'Viet Nam': -5.8,\n",
    "    'Israel': 6.7,\n",
    "    'Peru': -0.7,\n",
    "    'South Africa': -29.6,\n",
    "    'Other': np.nan,\n",
    "    'Spain': 9.2,\n",
    "    'Bangladesh': np.nan,\n",
    "    'United Kingdom of Great Britain and Northern Ireland': 1.0,\n",
    "    'France': 9.2,\n",
    "    'Switzerland': 6.5,\n",
    "    'Algeria': np.nan,\n",
    "    'Tunisia': np.nan,\n",
    "    'Argentina': 16.3,\n",
    "    'Sweden': 19.8,\n",
    "    'Colombia': 3.5,\n",
    "    'I do not wish to disclose my location': np.nan,\n",
    "    'Canada': 10.2,\n",
    "    'Chile': 10.2,\n",
    "    'Netherlands': 9.2,\n",
    "    'Ukraine': -25.1,\n",
    "    'Saudi Arabia': -3.5,\n",
    "    'Romania': -29.0,\n",
    "    'Morocco': np.nan,\n",
    "    'Austria': 9.2,\n",
    "    'Taiwan': -38.9,\n",
    "    'Kenya': np.nan,\n",
    "    'Belarus': np.nan,\n",
    "    'Ireland': 9.2,\n",
    "    'Portugal': 9.2,\n",
    "    'Hong Kong (S.A.R.)': -45.6,\n",
    "    'Denmark': -14.2,\n",
    "    'Germany': 9.2,\n",
    "    'South Korea': -7.8,\n",
    "    'Philippines': -11.2,\n",
    "    'Sri Lanka': 10.0,\n",
    "    'United Arab Emirates': -7.8,\n",
    "    'Uganda': np.nan,\n",
    "    'Ghana': np.nan,\n",
    "    'Malaysia': -31.7,\n",
    "    'Thailand': 17.0,\n",
    "    'Nepal': np.nan,\n",
    "    'Kazakhstan': np.nan,\n",
    "    'Ethiopia': np.nan,\n",
    "    'Iraq': np.nan,\n",
    "    'Ecuador': np.nan,\n",
    "    'Norway': 8.6,\n",
    "    'Czech Republic': 2.9,\n",
    "}\n",
    "\n",
    "# Graduate Age Dataset\n",
    "#   Info: 2020-21, UG & PG students\n",
    "#   Link: https://hea.ie/statistics/data-for-download-and-visualisations/enrolments/key-facts-figures-2020-2021/\n",
    "def get_student_age_data():\n",
    "    data = pd.read_csv('./Data/student_age.csv')\n",
    "    ug_data = data[data['Course'] == 'UG']\n",
    "    pg_data = data[data['Course'] == 'PG']\n",
    "    pg_data = pg_data.assign(Neg_Composition = -pg_data['Composition'])\n",
    "    return ug_data, pg_data\n",
    "ug_data, pg_data = get_student_age_data()\n",
    "\n",
    "# GPU Pricing Dataset\n",
    "#   Info: 2018\n",
    "#   Link: https://www.kaggle.com/raczeq/ethereum-effect-pc-parts\n",
    "def get_gpu_prices():\n",
    "    data = pd.read_csv('./Data/gpu_prices/FACT_GPU_PRICE.csv')\n",
    "    time_data = pd.read_csv('./Data/gpu_prices/DIM_TIME.csv')\n",
    "    prod_data = pd.read_csv('./Data/gpu_prices/DIM_GPU_PROD.csv')\n",
    "    region_data = pd.read_csv('./Data/gpu_prices/DIM_REGION.csv')\n",
    "    prod_data['Memory_Capacity_category'] = prod_data['Memory_Capacity'].apply(lambda x: 'high' if x >= 10 else 'medium' if x >=2 else 'low')\n",
    "    merged_data = pd.merge(data, time_data, how = 'left', left_on = 'TimeId', right_on = 'Id')\n",
    "    merged_data = pd.merge(merged_data, prod_data, how = 'left', left_on = 'ProdId', right_on = 'Id')\n",
    "    merged_data = pd.merge(merged_data, region_data, how = 'left', left_on = 'RegionId', right_on = 'Id')\n",
    "\n",
    "    country_code_name_map = {\n",
    "        'au': 'Australia',\n",
    "        'be': 'Belgium',\n",
    "        'ca': 'Canada',\n",
    "        'de': 'Germany',\n",
    "        'es': 'Spain',\n",
    "        'fr': 'France',\n",
    "        'ie': 'Ireland',\n",
    "        'it': 'Italy',\n",
    "        'nz': 'New Zealand',\n",
    "        'uk': 'United Kingdom of Great Britain and Northern Ireland',\n",
    "        'us': 'United States of America'\n",
    "    }\n",
    "    merged_data['Code'] = merged_data['Code'].map(country_code_name_map)\n",
    "    merged_data = merged_data[merged_data['Code'] != 'New Zealand']\n",
    "    merged_data['BigMac_index'] = merged_data['Code'].map(bigmac_idx)\n",
    "    merged_data['ppp_price'] = merged_data['Price_USD'] * (1 + (merged_data['BigMac_index'] / 100.0))\n",
    "    return merged_data\n",
    "gpu_prices_data = get_gpu_prices()\n",
    "gpu_prices_data = gpu_prices_data[gpu_prices_data['Year'] == 2018]"
   ]
  },
  {
   "cell_type": "code",
   "execution_count": 5,
   "id": "dcc17e44",
   "metadata": {},
   "outputs": [
    {
     "data": {
      "image/png": "[encoded data removed]",
      "text/plain": [
       "<Figure size 1080x504 with 1 Axes>"
      ]
     },
     "metadata": {},
     "output_type": "display_data"
    }
   ],
   "source": [
    "# TODO in R\n",
    "# Plot count of SpecAccs\n",
    "def plot_uniq_vals_in_ques(ques, kaggler_ids = [], rotation = 0, title = \"\", return_output = False):\n",
    "    data = raw_data.set_index('kaggler_id')\n",
    "    if(len(kaggler_ids) != 0):\n",
    "        data = data.loc[kaggler_ids]\n",
    "    sel_cols = [x for x in data.columns if ques in x]\n",
    "    val_cnts = (data.shape[0] - pd.isnull(data[sel_cols]).sum().sort_index()) / data.shape[0] * 100\n",
    "    plot_barplot(x_names = [x.split('Selected Choice - ')[-1] for x in val_cnts.index], y_vals = val_cnts, rotate_x = rotation, title = title, ylabel = \"(in %)\")\n",
    "    if(return_output == True):\n",
    "        return val_cnts\n",
    "ques = 'Which types of specialized hardware do you use on a regular basis?'\n",
    "plot_uniq_vals_in_ques(ques)"
   ]
  },
  {
   "cell_type": "markdown",
   "id": "c9639950",
   "metadata": {},
   "source": [
    "## Most Kagglers do not have Specialized Accelerators\n",
    "## Among thos having, NVIDIA GPUs & Google Cloud TPUs are most popular"
   ]
  },
  {
   "cell_type": "code",
   "execution_count": 6,
   "id": "466b0d04",
   "metadata": {},
   "outputs": [
    {
     "name": "stdout",
     "output_type": "stream",
     "text": [
      "No. of Excluded Kagglers: 1391\n",
      "Size of processed data: (24582, 53)\n"
     ]
    }
   ],
   "source": [
    "# TODO in R\n",
    "# Print details about size of processed dataset & number of excluded columns\n",
    "sel_cols = [x for x in raw_data.columns if 'Which types of specialized hardware do you use on a regular basis?' in x]\n",
    "excl_index = pd.isnull(raw_data[sel_cols]).sum(axis = 1)\n",
    "excl_index = excl_index[excl_index == 6].index\n",
    "print(f'No. of Excluded Kagglers: {len(excl_index)}')\n",
    "new_data = data.drop(excl_index, axis = 0)\n",
    "print(f'Size of processed data: {new_data.shape}')\n",
    "new_data['has_spec_acc'] = new_data['Q_50'].apply(lambda x: x != 'None')\n",
    "new_data['num_spec_acc'] = new_data['Q_50'].apply(lambda x: 0 if x == 'None' else len(x.split('|')))"
   ]
  },
  {
   "cell_type": "markdown",
   "id": "f61c24d9",
   "metadata": {},
   "source": [
    "# Salary"
   ]
  },
  {
   "cell_type": "code",
   "execution_count": 7,
   "id": "3d3639e8",
   "metadata": {},
   "outputs": [],
   "source": [
    "salary_order = [\n",
    "    '$0-999',\n",
    "    '1,000-1,999',\n",
    "    '2,000-2,999',\n",
    "    '3,000-3,999',\n",
    "    '4,000-4,999',\n",
    "    '5,000-7,499',\n",
    "    '7,500-9,999',\n",
    "    '10,000-14,999',\n",
    "    '15,000-19,999',\n",
    "    '20,000-24,999',\n",
    "    '25,000-29,999',\n",
    "    '30,000-39,999',\n",
    "    '40,000-49,999',\n",
    "    '50,000-59,999',\n",
    "    '60,000-69,999',\n",
    "    '70,000-79,999',\n",
    "    '80,000-89,999',\n",
    "    '90,000-99,999',\n",
    "    '100,000-124,999',\n",
    "    '125,000-149,999',\n",
    "    '150,000-199,999',\n",
    "    '200,000-249,999',\n",
    "    '250,000-299,999',\n",
    "    '300,000-499,999',\n",
    "    '$500,000-999,999',\n",
    "    '>$1,000,000'\n",
    "]\n",
    "salaries = new_data['Q_10'].value_counts().loc[salary_order]"
   ]
  },
  {
   "cell_type": "code",
   "execution_count": 8,
   "id": "adf324ba",
   "metadata": {},
   "outputs": [
    {
     "data": {
      "image/png": "[encoded data removed]",
      "text/plain": [
       "<Figure size 1080x504 with 1 Axes>"
      ]
     },
     "metadata": {},
     "output_type": "display_data"
    }
   ],
   "source": [
    "# TODO in R\n",
    "# Plot barplot for salary counts\n",
    "plot_barplot(salary_order, salaries.values, rotate_x = 90)"
   ]
  },
  {
   "cell_type": "markdown",
   "id": "0b9e33f9",
   "metadata": {},
   "source": [
    "### Visualizing histograms with actually unequal bin widths can be misleading"
   ]
  },
  {
   "cell_type": "code",
   "execution_count": 9,
   "id": "c7ba7af2",
   "metadata": {},
   "outputs": [
    {
     "data": {
      "image/png": "[encoded data removed]",
      "text/plain": [
       "<Figure size 1440x360 with 1 Axes>"
      ]
     },
     "metadata": {
      "needs_background": "light"
     },
     "output_type": "display_data"
    }
   ],
   "source": [
    "# TODO in R\n",
    "# Plot barplot with actual bin widths\n",
    "starting_points = [0   , 1000, 2000, 3000, 4000, 5000, 7500, 10000, 15000, 20000, 25000, 30000, 40000, 50000, 60000, 70000, 80000, 90000, 100000, 125000, 150000, 200000, 250000, 300000, 500000, 1000000]\n",
    "widths =          [1000, 1000, 1000, 1000, 1000, 2500, 2500,  5000,  5000,  5000,  5000, 10000, 10000, 10000, 10000, 10000, 10000, 10000,  25000,  25000,  50000,  50000,  50000, 200000, 500000, 1000000]\n",
    "ending_points = np.add(starting_points, widths)\n",
    "mid_points = np.add(starting_points, np.divide(widths, 2))\n",
    "fig, ax = plt.subplots(1, 1, figsize = (20, 5))\n",
    "ax.bar(mid_points, salaries.values, width = widths)\n",
    "plt.show()"
   ]
  },
  {
   "cell_type": "markdown",
   "id": "e786cb7d",
   "metadata": {},
   "source": [
    "### This is the true distribution which is the most accurate representation of the data"
   ]
  },
  {
   "cell_type": "code",
   "execution_count": 10,
   "id": "5b2c072b",
   "metadata": {},
   "outputs": [
    {
     "name": "stdout",
     "output_type": "stream",
     "text": [
      "Shape of data after excluding countries for which we do not have PPP data & NAs in Q_10: (12522, 56)\n"
     ]
    }
   ],
   "source": [
    "new_ppp_data = new_data.copy()\n",
    "new_ppp_data['PPP_adjusted'] = new_data['Q_2'].map(bigmac_idx)\n",
    "new_ppp_data = new_ppp_data.loc[~pd.isnull(new_ppp_data['PPP_adjusted'])]\n",
    "new_ppp_data = new_ppp_data.loc[~pd.isnull(new_ppp_data['Q_10'])]\n",
    "print(f\"Shape of data after excluding countries for which we do not have PPP data & NAs in Q_10: {new_ppp_data.shape}\")\n",
    "\n",
    "new_ppp_data['min_sal'] = new_ppp_data['Q_10'].apply(lambda x: starting_points[salary_order.index(x)]) / 1000000\n",
    "new_ppp_data['mid_sal'] = new_ppp_data['Q_10'].apply(lambda x: mid_points[salary_order.index(x)]) / 1000000\n",
    "new_ppp_data['max_sal'] = new_ppp_data['Q_10'].apply(lambda x: ending_points[salary_order.index(x)]) / 1000000\n",
    "new_ppp_data['PPP_adj_min_sal'] = new_ppp_data['min_sal'] * (1 + (new_ppp_data['PPP_adjusted'] / 100.0))\n",
    "new_ppp_data['PPP_adj_mid_sal'] = new_ppp_data['mid_sal'] * (1 + (new_ppp_data['PPP_adjusted'] / 100.0))\n",
    "new_ppp_data['PPP_adj_max_sal'] = new_ppp_data['max_sal'] * (1 + (new_ppp_data['PPP_adjusted'] / 100.0))\n",
    "new_ppp_data_only_adj = new_ppp_data[['PPP_adj_min_sal', 'PPP_adj_max_sal']]"
   ]
  },
  {
   "cell_type": "code",
   "execution_count": 11,
   "id": "e78fe19f",
   "metadata": {},
   "outputs": [
    {
     "name": "stdout",
     "output_type": "stream",
     "text": [
      "[1] \"Fitted Parameters:\"\n",
      "    shape      rate \n",
      "0.3619788 7.6292501 \n",
      "[1] \"Midpoint-based Mean: 0.049612\"\n",
      "[1] \"Etimated Mean: 0.047446\"\n"
     ]
    },
    {
     "data": {
      "image/png": "[encoded data removed]"
     },
     "metadata": {},
     "output_type": "display_data"
    }
   ],
   "source": [
    "%%R -i new_ppp_data_only_adj -o alpha -o beta\n",
    "# TODO: Make plot axis scale proper\n",
    "\n",
    "colnames(new_ppp_data_only_adj) <- c('left', 'right')\n",
    "fitted_distribution_gamma <- fitdistcens(new_ppp_data_only_adj, \"gamma\")\n",
    "\n",
    "# overall fit:\n",
    "print(\"Fitted Parameters:\")\n",
    "print(fitted_distribution_gamma$estimate)\n",
    "\n",
    "# Mean\n",
    "print(sprintf(\"Midpoint-based Mean: %f\", new_ppp_data_only_adj %>%\n",
    "  mutate(mid = (left + replace_na(right, 2)) / 2) %>%\n",
    "  summarise(crude_mean = mean(mid)) %>%\n",
    "  pull(crude_mean)))\n",
    "print(sprintf(\"Etimated Mean: %f\", fitted_distribution_gamma$estimate[\"shape\"] / fitted_distribution_gamma$estimate[\"rate\"]))\n",
    "\n",
    "g <- ggplot(new_ppp_data_only_adj) +\n",
    "  stat_function(fun = dgamma, args = fitted_distribution_gamma$estimate, colour = \"blue\")\n",
    "print(g)\n",
    "\n",
    "alpha <- fitted_distribution_gamma$estimate[['shape']]\n",
    "beta <- fitted_distribution_gamma$estimate[['rate']]"
   ]
  },
  {
   "cell_type": "markdown",
   "id": "7c66b893",
   "metadata": {},
   "source": [
    "### Approximating the censored distribution by fitting a gamma distribution"
   ]
  },
  {
   "cell_type": "code",
   "execution_count": 12,
   "id": "6ad5b626",
   "metadata": {},
   "outputs": [],
   "source": [
    "ppp_bins = [[*x] for x in [*new_ppp_data.groupby(['PPP_adj_min_sal', 'PPP_adj_max_sal'])['kaggler_id'].aggregate('count').index]]\n",
    "ppp_bins = pd.DataFrame(ppp_bins, columns = ['min', 'max'])"
   ]
  },
  {
   "cell_type": "code",
   "execution_count": 13,
   "id": "45bd80b8",
   "metadata": {},
   "outputs": [],
   "source": [
    "%%R -i ppp_bins -i alpha -i beta -o ppp_bins\n",
    "\n",
    "find_area_mid <- function(min, max, alpha, beta) {\n",
    "  f_1 <- pgamma(min, shape = alpha, rate= beta)\n",
    "  f_2 <- pgamma(max, shape = alpha, rate = beta)\n",
    "  qgamma((f_1 + f_2) / 2.0, shape = alpha, rate = beta)\n",
    "}\n",
    "\n",
    "find_actual_mid <- function(min, max, alpha, beta) {\n",
    "  samples <- rgamma(1000000, shape = alpha, rate = beta)\n",
    "  actual_mids <- c()\n",
    "  for (idx in 1:length(min)) {\n",
    "    actual_mids <- c(actual_mids, mean(samples[(samples >= min[idx]) & (samples <= max[idx])]))\n",
    "  }\n",
    "  actual_mids\n",
    "}\n",
    "\n",
    "ppp_bins <- ppp_bins %>%\n",
    "  mutate(final_mid = find_actual_mid(min, max, alpha, beta))"
   ]
  },
  {
   "cell_type": "code",
   "execution_count": 14,
   "id": "8dcf4780",
   "metadata": {},
   "outputs": [],
   "source": [
    "# TODO: For mention purposes\n",
    "# %%R\n",
    "\n",
    "# # TODO: Find avg error in mid-point value estimation\n",
    "# starting_points <- c(0   , 1000, 2000, 3000, 4000, 5000, 7500, 10000, 15000, 20000, 25000, 30000, 40000, 50000, 60000, 70000, 80000, 90000, 100000, 125000, 150000, 200000, 250000, 300000, 500000, 1000000)\n",
    "# widths <-          c(1000, 1000, 1000, 1000, 1000, 2500, 2500,  5000,  5000,  5000,  5000, 10000, 10000, 10000, 10000, 10000, 10000, 10000,  25000,  25000,  50000,  50000,  50000, 200000, 500000, 1000000)\n",
    "\n",
    "# samples <- rgamma(10000000, shape = alpha, rate = beta)\n",
    "# errors <- c()\n",
    "\n",
    "# for (idx in 1:length(starting_points)) {\n",
    "#   min <- starting_points[idx] / 1000000\n",
    "#   max <- (starting_points[idx] + widths[idx]) / 1000000\n",
    "#   alpha <- 0.3619788\n",
    "#   beta <- 7.6292501\n",
    "#   #hist(samples, breaks = 100)\n",
    "#   actual_mid <- mean(samples[(samples >= min) & (samples <= max)])\n",
    "  \n",
    "#   find_actual_mid <- function(min, max, alpha, beta) {\n",
    "#     f_1 <- pgamma(min, shape = alpha, rate= beta)\n",
    "#     f_2 <- pgamma(max, shape = alpha, rate = beta)\n",
    "#     qgamma((f_1 + f_2) / 2.0, shape = alpha, rate = beta)\n",
    "#   }\n",
    "#   estimated_mid <- find_actual_mid(min, max, alpha, beta)\n",
    "#   errors <- c(errors, abs((estimated_mid - actual_mid) / (widths[idx] / 1000000)) * 100)\n",
    "# }\n",
    "\n",
    "# plot(errors)"
   ]
  },
  {
   "cell_type": "code",
   "execution_count": 15,
   "id": "ae400ab8",
   "metadata": {},
   "outputs": [],
   "source": [
    "new_ppp_data = pd.merge(new_ppp_data, ppp_bins, how = 'inner', left_on = ['PPP_adj_min_sal', 'PPP_adj_max_sal'], right_on = ['min', 'max'])"
   ]
  },
  {
   "cell_type": "code",
   "execution_count": 16,
   "id": "ea18e819",
   "metadata": {},
   "outputs": [
    {
     "name": "stderr",
     "output_type": "stream",
     "text": [
      "/home/sakshat/anaconda3/envs/Kaggle_Survey_Python/lib/python3.8/site-packages/seaborn/distributions.py:2557: FutureWarning: `distplot` is a deprecated function and will be removed in a future version. Please adapt your code to use either `displot` (a figure-level function with similar flexibility) or `histplot` (an axes-level function for histograms).\n",
      "  warnings.warn(msg, FutureWarning)\n",
      "/home/sakshat/anaconda3/envs/Kaggle_Survey_Python/lib/python3.8/site-packages/seaborn/distributions.py:2557: FutureWarning: `distplot` is a deprecated function and will be removed in a future version. Please adapt your code to use either `displot` (a figure-level function with similar flexibility) or `histplot` (an axes-level function for histograms).\n",
      "  warnings.warn(msg, FutureWarning)\n",
      "/home/sakshat/anaconda3/envs/Kaggle_Survey_Python/lib/python3.8/site-packages/seaborn/distributions.py:2557: FutureWarning: `distplot` is a deprecated function and will be removed in a future version. Please adapt your code to use either `displot` (a figure-level function with similar flexibility) or `histplot` (an axes-level function for histograms).\n",
      "  warnings.warn(msg, FutureWarning)\n"
     ]
    },
    {
     "data": {
      "image/png": "[encoded data removed]",
      "text/plain": [
       "<Figure size 2160x1080 with 2 Axes>"
      ]
     },
     "metadata": {
      "needs_background": "light"
     },
     "output_type": "display_data"
    }
   ],
   "source": [
    "# TODO: In R\n",
    "# Plot estimated distribution function\n",
    "\n",
    "# alpha & beta derived from R\n",
    "sampled_gamma = np.random.gamma(alpha[0], 1 / beta[0], 100000) * 1000000\n",
    "fig, ax = plt.subplots(2, 1, figsize = (30, 15), sharex = True)\n",
    "sns.distplot(sampled_gamma, ax = ax[0], label = 'Modelled')\n",
    "sns.distplot(new_ppp_data['mid_sal'] * 1000000, ax = ax[0], label = 'actual mid')\n",
    "sns.distplot(new_ppp_data['PPP_adj_mid_sal'] * 1000000, ax = ax[0], label = 'adjusted mid')\n",
    "ax[0].legend(loc = 'best')\n",
    "# sns.kdeplot(sampled_gamma, ax = ax[1], label = 'Modelled')\n",
    "sns.kdeplot(new_ppp_data['mid_sal'] * 1000000, ax = ax[1], label = 'actual mid')\n",
    "sns.kdeplot(new_ppp_data['PPP_adj_mid_sal'] * 1000000, ax = ax[1], label = 'adjusted mid')\n",
    "sns.kdeplot(new_ppp_data['final_mid'] * 1000000, ax = ax[1], label = 'final mid')\n",
    "ax[1].legend(loc = 'best')\n",
    "# ax[2].bar(mid_points, salaries.values, width = widths)\n",
    "plt.show()"
   ]
  },
  {
   "cell_type": "markdown",
   "id": "be7dd5c8",
   "metadata": {},
   "source": [
    "### After fitting the gamma distribution, we can recalculate the true mid-point of each bin based on the fitted distribution. The true midpoint would now lie to the left of the geometric midpoint of each bin."
   ]
  },
  {
   "cell_type": "code",
   "execution_count": 17,
   "id": "8458c2f8",
   "metadata": {},
   "outputs": [],
   "source": [
    "pivot_data = pd.pivot_table(new_data.groupby(['has_spec_acc', 'Q_10'])[['kaggler_id']].aggregate('count'), values = 'kaggler_id', index = ['Q_10'], columns = ['has_spec_acc'])\n",
    "for col in pivot_data.columns:\n",
    "    pivot_data[col] = pivot_data[col] / pivot_data[col].sum() * 100\n",
    "pivot_data = pivot_data.loc[salary_order]\n",
    "\n",
    "has_no_spec_acc = new_ppp_data[new_ppp_data['has_spec_acc'] == 0]\n",
    "has_spec_acc = new_ppp_data[new_ppp_data['has_spec_acc'] == 1]\n",
    "has_no_spec_acc_only_adj = has_no_spec_acc[['PPP_adj_min_sal', 'PPP_adj_max_sal']]\n",
    "has_spec_acc_only_adj = has_spec_acc[['PPP_adj_min_sal', 'PPP_adj_max_sal']]"
   ]
  },
  {
   "cell_type": "code",
   "execution_count": 18,
   "id": "8766c8eb",
   "metadata": {},
   "outputs": [],
   "source": [
    "%%R -i has_no_spec_acc_only_adj -i has_spec_acc_only_adj -o alpha1 -o beta1 -o alpha2 -o beta2\n",
    "\n",
    "colnames(has_no_spec_acc_only_adj) <- c('left', 'right')\n",
    "fitted_distribution_gamma <- fitdistcens(has_no_spec_acc_only_adj, \"gamma\")\n",
    "alpha1 <- fitted_distribution_gamma$estimate[['shape']]\n",
    "beta1 <- fitted_distribution_gamma$estimate[['rate']]\n",
    "\n",
    "colnames(has_spec_acc_only_adj) <- c('left', 'right')\n",
    "fitted_distribution_gamma <- fitdistcens(has_spec_acc_only_adj, \"gamma\")\n",
    "alpha2 <- fitted_distribution_gamma$estimate[['shape']]\n",
    "beta2 <- fitted_distribution_gamma$estimate[['rate']]"
   ]
  },
  {
   "cell_type": "code",
   "execution_count": 19,
   "id": "68d6fd1b",
   "metadata": {},
   "outputs": [
    {
     "data": {
      "image/png": "[encoded data removed]",
      "text/plain": [
       "<Figure size 1800x720 with 1 Axes>"
      ]
     },
     "metadata": {
      "needs_background": "light"
     },
     "output_type": "display_data"
    }
   ],
   "source": [
    "# TODO: in R\n",
    "# Plot distribution for has & does not have SpecAccs\n",
    "\n",
    "# alpha & beta derived from R\n",
    "sampled_gamma1 = np.random.gamma(alpha1, 1 / beta1, 100000) * 1000000\n",
    "# alpha & beta derived from R\n",
    "sampled_gamma2 = np.random.gamma(alpha2, 1 / beta2, 100000) * 1000000\n",
    "\n",
    "fig, ax = plt.subplots(1, 1, figsize = (25, 10))\n",
    "sns.kdeplot(sampled_gamma1, ax = ax, label = 'Has No SpecAccs')\n",
    "sns.kdeplot(sampled_gamma2, ax = ax, label = 'Has SpecAccs')\n",
    "ax.legend(loc = 'best')\n",
    "ax.set_xlim(0, 500000)\n",
    "#ax.set_ylim(0, 0.5 * 1e-5)\n",
    "plt.show()"
   ]
  },
  {
   "cell_type": "code",
   "execution_count": 20,
   "id": "0b8dd31a",
   "metadata": {},
   "outputs": [
    {
     "data": {
      "image/png": "[encoded data removed]",
      "text/plain": [
       "<Figure size 1800x720 with 1 Axes>"
      ]
     },
     "metadata": {
      "needs_background": "light"
     },
     "output_type": "display_data"
    },
    {
     "data": {
      "image/png": "[encoded data removed]",
      "text/plain": [
       "<Figure size 2160x720 with 2 Axes>"
      ]
     },
     "metadata": {
      "needs_background": "light"
     },
     "output_type": "display_data"
    }
   ],
   "source": [
    "# TODO: in R\n",
    "# Plot barplot for has & does not have SpecAccs\n",
    "\n",
    "has_no_spec_acc_salaries = has_no_spec_acc['Q_10'].value_counts().loc[salary_order]\n",
    "fig, ax = plt.subplots(1, 1, figsize = (25, 10))\n",
    "ax.bar(mid_points, has_no_spec_acc_salaries.values / has_no_spec_acc_salaries.values.sum() * 100, width = widths, alpha = 0.5, label = \"Has No SpecAcc\")\n",
    "has_spec_acc_salaries = has_spec_acc['Q_10'].value_counts().loc[salary_order]\n",
    "ax.bar(mid_points, has_spec_acc_salaries.values / has_spec_acc_salaries.values.sum() * 100, width = widths, alpha = 0.5, label = \"Has SpecAcc\")\n",
    "ax.legend(loc = 'best')\n",
    "plt.show()\n",
    "\n",
    "diff = ((has_spec_acc_salaries.values / has_spec_acc_salaries.values.sum()) - (has_no_spec_acc_salaries.values / has_no_spec_acc_salaries.values.sum())) * 100\n",
    "fig, ax = plt.subplots(2, 1, figsize = (30, 10))\n",
    "ax[0].bar(mid_points, diff, width = widths, alpha = 0.5)\n",
    "ax[1].bar(np.arange(len(diff)), diff)\n",
    "plt.show()"
   ]
  },
  {
   "cell_type": "markdown",
   "id": "ebf41e9a",
   "metadata": {},
   "source": [
    "### Analyzing the distribution of Kagglers having and not having SpecAccs shows certain areas where the distribution slightly differs.\n",
    "### By making the bins of same width, we can see a clear pattern - Extremely low & high salaries indicate presence of SpecAccs"
   ]
  },
  {
   "cell_type": "code",
   "execution_count": 21,
   "id": "92a41452",
   "metadata": {},
   "outputs": [],
   "source": [
    "# TODO: for mention purposes\n",
    "\n",
    "# max_val = -1\n",
    "# max_params = ()\n",
    "# for i in range(5000, 1000000, 5000):\n",
    "#     for j in range(5000, 1000000, 5000):\n",
    "#         if(i > j):\n",
    "#             continue\n",
    "#         new_ppp_data['PPP_adj_sal_cats'] = new_ppp_data['final_mid'].apply(lambda x: 1 if ((x * 1000000 < i) | (x * 1000000 > j)) else 0)\n",
    "#         val = new_ppp_data.groupby('PPP_adj_sal_cats')['has_spec_acc'].aggregate(['count', np.nanmean])\n",
    "#         if(len(val.index) != 2):\n",
    "#             continue\n",
    "#         if(val['count'].min() < 1000):\n",
    "#             continue\n",
    "#         if((val.loc[0]['nanmean'] - 0.5) * (val.loc[1]['nanmean'] - 0.5) > 0):\n",
    "#             continue\n",
    "#         if((np.abs(val.loc[0]['nanmean'] - val.loc[1]['nanmean'])) > max_val):\n",
    "#             max_val = np.abs(val.loc[0]['nanmean'] - val.loc[1]['nanmean'])\n",
    "#             max_params = (i, j)\n",
    "# print(max_val)\n",
    "# print(max_params)"
   ]
  },
  {
   "cell_type": "code",
   "execution_count": 27,
   "id": "6f42a9f4",
   "metadata": {},
   "outputs": [
    {
     "name": "stdout",
     "output_type": "stream",
     "text": [
      "  PPP_adj_sal_cats  count  nanmean\n",
      "0    $5000-$175000   7892    0.444\n",
      "1           <$5000   4180    0.529\n",
      "2         >$175000    450    0.589\n"
     ]
    }
   ],
   "source": [
    "# TODO: in R\n",
    "# Print actual categorical nanmeans\n",
    "\n",
    "new_ppp_data['PPP_adj_sal_cats'] = new_ppp_data['final_mid'].apply(lambda x: 0 if (x * 1000000 < 5000) else 2 if (x * 1000000 > 175000) else 1)\n",
    "new_ppp_data['PPP_adj_sal_cats'] = new_ppp_data['PPP_adj_sal_cats'].replace({0: '<$5000', 1: '$5000-$175000', 2: '>$175000'})\n",
    "val = new_ppp_data.groupby('PPP_adj_sal_cats')['has_spec_acc'].aggregate(['count', np.nanmean]).reset_index(drop = False)\n",
    "val['nanmean'] = val['nanmean'].apply(lambda x: np.round(x * 1000) / 1000)\n",
    "print(val)"
   ]
  },
  {
   "cell_type": "code",
   "execution_count": 23,
   "id": "0d957f8f",
   "metadata": {},
   "outputs": [
    {
     "name": "stderr",
     "output_type": "stream",
     "text": [
      "<ipython-input-23-ce65d45e2999>:4: SettingWithCopyWarning: \n",
      "A value is trying to be set on a copy of a slice from a DataFrame.\n",
      "Try using .loc[row_indexer,col_indexer] = value instead\n",
      "\n",
      "See the caveats in the documentation: https://pandas.pydata.org/pandas-docs/stable/user_guide/indexing.html#returning-a-view-versus-a-copy\n",
      "  new_ppp_data_only_adj['PPP_adj_sal_cats'] = new_ppp_data_only_adj['PPP_adj_sal_cats'].astype(np.int32)\n",
      "<ipython-input-23-ce65d45e2999>:5: SettingWithCopyWarning: \n",
      "A value is trying to be set on a copy of a slice from a DataFrame.\n",
      "Try using .loc[row_indexer,col_indexer] = value instead\n",
      "\n",
      "See the caveats in the documentation: https://pandas.pydata.org/pandas-docs/stable/user_guide/indexing.html#returning-a-view-versus-a-copy\n",
      "  new_ppp_data_only_adj['has_spec_acc'] = new_ppp_data_only_adj['has_spec_acc'].astype(np.int32)\n"
     ]
    }
   ],
   "source": [
    "new_ppp_data['PPP_adj_sal_cats'] = new_ppp_data['PPP_adj_mid_sal'].apply(lambda x: 1 if ((x * 1000000 < 5000) | (x * 1000000 > 175000)) else 0)\n",
    "val = new_ppp_data.groupby('PPP_adj_sal_cats')['has_spec_acc'].aggregate(['count', np.nanmean])\n",
    "new_ppp_data_only_adj = new_ppp_data[['PPP_adj_sal_cats', 'has_spec_acc']]\n",
    "new_ppp_data_only_adj['PPP_adj_sal_cats'] = new_ppp_data_only_adj['PPP_adj_sal_cats'].astype(np.int32)\n",
    "new_ppp_data_only_adj['has_spec_acc'] = new_ppp_data_only_adj['has_spec_acc'].astype(np.int32)"
   ]
  },
  {
   "cell_type": "code",
   "execution_count": 24,
   "id": "7221bae2",
   "metadata": {},
   "outputs": [
    {
     "name": "stdout",
     "output_type": "stream",
     "text": [
      "\n",
      "\tWelch Two Sample t-test\n",
      "\n",
      "data:  has_spec_acc by PPP_adj_sal_cats\n",
      "t = -9.8452, df = 9700.1, p-value < 2.2e-16\n",
      "alternative hypothesis: true difference in means between group 0 and group 1 is not equal to 0\n",
      "95 percent confidence interval:\n",
      " -0.10880211 -0.07267052\n",
      "sample estimates:\n",
      "mean in group 0 mean in group 1 \n",
      "      0.4441624       0.5348988 \n",
      "\n"
     ]
    }
   ],
   "source": [
    "%%R -i new_ppp_data_only_adj\n",
    "ttest <- t.test(has_spec_acc ~ PPP_adj_sal_cats, data = new_ppp_data_only_adj)\n",
    "print(ttest)"
   ]
  },
  {
   "cell_type": "markdown",
   "id": "1a62067a",
   "metadata": {},
   "source": [
    "# Low-salary Kagglers"
   ]
  },
  {
   "cell_type": "markdown",
   "id": "c87aae6e",
   "metadata": {},
   "source": [
    "## University Students?"
   ]
  },
  {
   "cell_type": "code",
   "execution_count": 25,
   "id": "3039bae8",
   "metadata": {},
   "outputs": [],
   "source": [
    "age_order = [\n",
    "    '18-21',\n",
    "    '22-24',\n",
    "    '25-29',\n",
    "    '30-34',\n",
    "    '35-39',\n",
    "    '40-44',\n",
    "    '45-49',\n",
    "    '50-54',\n",
    "    '55-59',\n",
    "    '60-69',\n",
    "    '70+',\n",
    "]\n",
    "ages = new_data['Q_1'].value_counts().loc[age_order]"
   ]
  },
  {
   "cell_type": "code",
   "execution_count": 26,
   "id": "51dc72c2",
   "metadata": {},
   "outputs": [
    {
     "data": {
      "image/png": "[encoded data removed]",
      "text/plain": [
       "<Figure size 1080x504 with 1 Axes>"
      ]
     },
     "metadata": {},
     "output_type": "display_data"
    }
   ],
   "source": [
    "# TODO: in R\n",
    "plot_barplot(age_order, ages.values, rotate_x = 90)"
   ]
  },
  {
   "cell_type": "markdown",
   "id": "76d60972",
   "metadata": {},
   "source": [
    "### Similar to salaries, the age data is also provided as censored bins."
   ]
  },
  {
   "cell_type": "code",
   "execution_count": 27,
   "id": "b84eea68",
   "metadata": {},
   "outputs": [
    {
     "data": {
      "image/png": "[encoded data removed]",
      "text/plain": [
       "<Figure size 1440x360 with 1 Axes>"
      ]
     },
     "metadata": {
      "needs_background": "light"
     },
     "output_type": "display_data"
    }
   ],
   "source": [
    "# TODO: in R\n",
    "starting_points = [18, 22, 25, 30, 35, 40, 45, 50, 55, 60, 70]\n",
    "widths =          [4 , 3 , 5 , 5 , 5 , 5 , 5 , 5 , 5 , 10, 10]\n",
    "ending_points = np.add(starting_points, widths)\n",
    "mid_points = np.add(starting_points, np.divide(widths, 2))\n",
    "fig, ax = plt.subplots(1, 1, figsize = (20, 5))\n",
    "ax.bar(mid_points, ages.values, width = widths)\n",
    "plt.show()"
   ]
  },
  {
   "cell_type": "markdown",
   "id": "f0f735dd",
   "metadata": {},
   "source": [
    "### However, for age, the bin sizes do not vary too much. Hence the true representation does not differ much from the misleading representation"
   ]
  },
  {
   "cell_type": "code",
   "execution_count": 28,
   "id": "a9a738e3",
   "metadata": {},
   "outputs": [],
   "source": [
    "new_age_data = new_data.copy()\n",
    "new_age_data['min_age'] = (new_age_data['Q_1'].apply(lambda x: starting_points[age_order.index(x)]) - 18) / 100\n",
    "new_age_data['mid_age'] = (new_age_data['Q_1'].apply(lambda x: mid_points[age_order.index(x)]) - 18) / 100\n",
    "new_age_data['max_age'] = (new_age_data['Q_1'].apply(lambda x: ending_points[age_order.index(x)]) - 18) / 100\n",
    "new_age_data_only_adj = new_age_data[['min_age', 'max_age']]"
   ]
  },
  {
   "cell_type": "code",
   "execution_count": 29,
   "id": "26340cd8",
   "metadata": {},
   "outputs": [],
   "source": [
    "%%R -i new_age_data_only_adj -o alpha -o beta\n",
    "\n",
    "colnames(new_age_data_only_adj) <- c('left', 'right')\n",
    "fitted_distribution_gamma <- fitdistcens(new_age_data_only_adj, \"gamma\")\n",
    "\n",
    "# g <- ggplot(new_age_data_only_adj) +\n",
    "#   stat_function(fun = dgamma, args = fitted_distribution_gamma$estimate, colour = \"blue\")\n",
    "# print(g)\n",
    "\n",
    "alpha <- fitted_distribution_gamma$estimate[['shape']]\n",
    "beta <- fitted_distribution_gamma$estimate[['rate']]"
   ]
  },
  {
   "cell_type": "markdown",
   "id": "c8c6db92",
   "metadata": {},
   "source": [
    "### Similar to salaries, the censored age distribution can be approximated by a gamma distribution"
   ]
  },
  {
   "cell_type": "code",
   "execution_count": 30,
   "id": "844c28ef",
   "metadata": {},
   "outputs": [],
   "source": [
    "age_bins = [[*x] for x in [*new_age_data.groupby(['min_age', 'max_age'])['kaggler_id'].aggregate('count').index]]\n",
    "age_bins = pd.DataFrame(age_bins, columns = ['min', 'max'])"
   ]
  },
  {
   "cell_type": "code",
   "execution_count": 31,
   "id": "a0f02e63",
   "metadata": {},
   "outputs": [],
   "source": [
    "%%R -i age_bins -i alpha -i beta -o age_bins\n",
    "\n",
    "find_actual_mid <- function(min, max, alpha, beta) {\n",
    "  samples <- rgamma(1000000, shape = alpha, rate = beta)\n",
    "  actual_mids <- c()\n",
    "  for (idx in 1:length(min)) {\n",
    "    actual_mids <- c(actual_mids, mean(samples[(samples >= min[idx]) & (samples <= max[idx])]))\n",
    "  }\n",
    "  actual_mids\n",
    "}\n",
    "\n",
    "age_bins <- age_bins %>%\n",
    "  mutate(final_mid = find_actual_mid(min, max, alpha, beta))"
   ]
  },
  {
   "cell_type": "code",
   "execution_count": 32,
   "id": "8cbd1087",
   "metadata": {},
   "outputs": [],
   "source": [
    "new_age_data = pd.merge(new_age_data, age_bins, how = 'inner', left_on = ['min_age', 'max_age'], right_on = ['min', 'max'])"
   ]
  },
  {
   "cell_type": "code",
   "execution_count": 33,
   "id": "474b8e27",
   "metadata": {},
   "outputs": [
    {
     "name": "stderr",
     "output_type": "stream",
     "text": [
      "/home/sakshat/anaconda3/envs/Kaggle_Survey_Python/lib/python3.8/site-packages/seaborn/distributions.py:2557: FutureWarning: `distplot` is a deprecated function and will be removed in a future version. Please adapt your code to use either `displot` (a figure-level function with similar flexibility) or `histplot` (an axes-level function for histograms).\n",
      "  warnings.warn(msg, FutureWarning)\n",
      "/home/sakshat/anaconda3/envs/Kaggle_Survey_Python/lib/python3.8/site-packages/seaborn/distributions.py:2557: FutureWarning: `distplot` is a deprecated function and will be removed in a future version. Please adapt your code to use either `displot` (a figure-level function with similar flexibility) or `histplot` (an axes-level function for histograms).\n",
      "  warnings.warn(msg, FutureWarning)\n"
     ]
    },
    {
     "data": {
      "image/png": "[encoded data removed]",
      "text/plain": [
       "<Figure size 2160x1080 with 2 Axes>"
      ]
     },
     "metadata": {
      "needs_background": "light"
     },
     "output_type": "display_data"
    }
   ],
   "source": [
    "# TODO: in R\n",
    "# alpha & beta derived from R\n",
    "\n",
    "#sampled_gamma = np.random.gamma(alpha[0], 1 / beta[0], 100000) * 100 + 18\n",
    "#fig, ax = plt.subplots(2, 1, figsize = (30, 15), sharex = True)\n",
    "#sns.distplot(sampled_gamma, ax = ax[0], label = 'Modelled')\n",
    "#sns.distplot(new_age_data['mid_age'] * 100 + 18, ax = ax[0], label = 'actual mid')\n",
    "#ax[0].legend(loc = 'best')\n",
    "# sns.kdeplot(sampled_gamma, ax = ax[1], label = 'Modelled')\n",
    "#sns.kdeplot(new_age_data['mid_age'] * 100 + 18, ax = ax[1], label = 'actual mid')\n",
    "#sns.kdeplot(new_age_data['final_mid'] * 100 + 18, ax = ax[1], label = 'final mid')\n",
    "#ax[1].legend(loc = 'best')\n",
    "# ax[2].bar(mid_points, salaries.values, width = widths)\n",
    "#plt.show()"
   ]
  },
  {
   "cell_type": "markdown",
   "id": "ad281952",
   "metadata": {},
   "source": [
    "### The fitted fistribution seems to match the histogram nicely. Again, the actual mid-point would be lower than the geometric mid-point for each bin, but unlike the highly-skewed salary distribution, the difference is not much"
   ]
  },
  {
   "cell_type": "code",
   "execution_count": 34,
   "id": "7061f7aa",
   "metadata": {},
   "outputs": [],
   "source": [
    "new_age_ppp_data = pd.merge(new_ppp_data[['kaggler_id', 'final_mid']], new_age_data[['kaggler_id', 'final_mid']], how = 'inner', on = 'kaggler_id', suffixes = ['_salary', '_age'])"
   ]
  },
  {
   "cell_type": "code",
   "execution_count": 35,
   "id": "0339d8d0",
   "metadata": {},
   "outputs": [
    {
     "name": "stderr",
     "output_type": "stream",
     "text": [
      "/home/sakshat/anaconda3/envs/Kaggle_Survey_Python/lib/python3.8/site-packages/seaborn/_decorators.py:36: FutureWarning: Pass the following variable as a keyword arg: y. From version 0.12, the only valid positional argument will be `data`, and passing other arguments without an explicit keyword will result in an error or misinterpretation.\n",
      "  warnings.warn(\n"
     ]
    },
    {
     "data": {
      "image/png": "[encoded data removed]",
      "text/plain": [
       "<Figure size 432x288 with 1 Axes>"
      ]
     },
     "metadata": {
      "needs_background": "light"
     },
     "output_type": "display_data"
    }
   ],
   "source": [
    "# TODO: in R\n",
    "sns.kdeplot(new_age_ppp_data['final_mid_salary'] * 1000000, new_age_ppp_data['final_mid_age'] * 100 + 18, cmap = \"Blues\", shade = True)\n",
    "plt.show()"
   ]
  },
  {
   "cell_type": "markdown",
   "id": "11c2cf8e",
   "metadata": {},
   "source": [
    "### Combining both the salary & age distribution, one can see that most Kagglers seem to have low salaries & low to middle age."
   ]
  },
  {
   "cell_type": "code",
   "execution_count": 36,
   "id": "84ed5567",
   "metadata": {},
   "outputs": [
    {
     "data": {
      "image/png": "[encoded data removed]",
      "text/plain": [
       "<Figure size 432x288 with 1 Axes>"
      ]
     },
     "metadata": {
      "needs_background": "light"
     },
     "output_type": "display_data"
    }
   ],
   "source": [
    "# TODO: in R\n",
    "new_age_ppp_data['final_mid_salary_cats'] = new_age_ppp_data['final_mid_salary'].apply(lambda x: 'low' if x * 1000000 < 5000 else 'high' if x * 1000000 > 175000 else 'medium')\n",
    "sns.boxplot(x = new_age_ppp_data['final_mid_salary_cats'], y = new_age_ppp_data['final_mid_age'] * 100 + 18)\n",
    "plt.show()"
   ]
  },
  {
   "cell_type": "markdown",
   "id": "f5cb1c36",
   "metadata": {},
   "source": [
    "### It is clear that Kagglers with low salaries have much lower median age than Kagglers with high salaries."
   ]
  },
  {
   "cell_type": "code",
   "execution_count": 37,
   "id": "e0e58940",
   "metadata": {},
   "outputs": [
    {
     "data": {
      "image/png": "[encoded data removed]",
      "text/plain": [
       "<Figure size 1080x720 with 1 Axes>"
      ]
     },
     "metadata": {
      "needs_background": "light"
     },
     "output_type": "display_data"
    }
   ],
   "source": [
    "# TODO: in R\n",
    "fig, ax = plt.subplots(1, 1, figsize = (15, 10))\n",
    "sns.barplot(x = 'Age', y = 'Composition', data = ug_data, ax = ax)\n",
    "sns.barplot(x = 'Age', y = 'Neg_Composition', data = pg_data, ax = ax)\n",
    "ax.axhline(0, color = 'black')\n",
    "plt.show()"
   ]
  },
  {
   "cell_type": "code",
   "execution_count": 38,
   "id": "815668f3",
   "metadata": {},
   "outputs": [],
   "source": [
    "new_ppp_cats_data = pd.merge(new_ppp_data, new_age_ppp_data, how = 'left', on = 'kaggler_id')"
   ]
  },
  {
   "cell_type": "markdown",
   "id": "c1295ceb",
   "metadata": {},
   "source": [
    "## Passionate about AI?"
   ]
  },
  {
   "cell_type": "markdown",
   "id": "0cac8637",
   "metadata": {},
   "source": [
    "### Coding Experience"
   ]
  },
  {
   "cell_type": "code",
   "execution_count": 39,
   "id": "0a7ba379",
   "metadata": {},
   "outputs": [],
   "source": [
    "coding_exp_order = ['< 1 years', '1-3 years', '3-5 years', '5-10 years', '10-20 years', '20+ years']\n",
    "coding_exp = pd.pivot_table(new_ppp_cats_data.groupby(['final_mid_salary_cats', 'Q_4'])['kaggler_id'].aggregate('count').reset_index(drop = False), index = 'final_mid_salary_cats', columns = 'Q_4')['kaggler_id'][coding_exp_order].loc[['low', 'medium', 'high']]"
   ]
  },
  {
   "cell_type": "code",
   "execution_count": 40,
   "id": "6ed7f67b",
   "metadata": {},
   "outputs": [
    {
     "data": {
      "text/html": [
       "<div>\n",
       "<style scoped>\n",
       "    .dataframe tbody tr th:only-of-type {\n",
       "        vertical-align: middle;\n",
       "    }\n",
       "\n",
       "    .dataframe tbody tr th {\n",
       "        vertical-align: top;\n",
       "    }\n",
       "\n",
       "    .dataframe thead th {\n",
       "        text-align: right;\n",
       "    }\n",
       "</style>\n",
       "<table border=\"1\" class=\"dataframe\">\n",
       "  <thead>\n",
       "    <tr style=\"text-align: right;\">\n",
       "      <th>Q_4</th>\n",
       "      <th>&lt; 1 years</th>\n",
       "      <th>1-3 years</th>\n",
       "      <th>3-5 years</th>\n",
       "      <th>5-10 years</th>\n",
       "      <th>10-20 years</th>\n",
       "      <th>20+ years</th>\n",
       "    </tr>\n",
       "    <tr>\n",
       "      <th>final_mid_salary_cats</th>\n",
       "      <th></th>\n",
       "      <th></th>\n",
       "      <th></th>\n",
       "      <th></th>\n",
       "      <th></th>\n",
       "      <th></th>\n",
       "    </tr>\n",
       "  </thead>\n",
       "  <tbody>\n",
       "    <tr>\n",
       "      <th>low</th>\n",
       "      <td>26.196172</td>\n",
       "      <td>34.832536</td>\n",
       "      <td>16.507177</td>\n",
       "      <td>10.861244</td>\n",
       "      <td>6.052632</td>\n",
       "      <td>5.550239</td>\n",
       "    </tr>\n",
       "    <tr>\n",
       "      <th>medium</th>\n",
       "      <td>11.530664</td>\n",
       "      <td>20.451090</td>\n",
       "      <td>17.600101</td>\n",
       "      <td>19.804866</td>\n",
       "      <td>16.624430</td>\n",
       "      <td>13.988849</td>\n",
       "    </tr>\n",
       "    <tr>\n",
       "      <th>high</th>\n",
       "      <td>4.888889</td>\n",
       "      <td>7.555556</td>\n",
       "      <td>7.111111</td>\n",
       "      <td>17.555556</td>\n",
       "      <td>24.888889</td>\n",
       "      <td>38.000000</td>\n",
       "    </tr>\n",
       "  </tbody>\n",
       "</table>\n",
       "</div>"
      ],
      "text/plain": [
       "Q_4                    < 1 years  1-3 years  3-5 years  5-10 years  \\\n",
       "final_mid_salary_cats                                                \n",
       "low                    26.196172  34.832536  16.507177   10.861244   \n",
       "medium                 11.530664  20.451090  17.600101   19.804866   \n",
       "high                    4.888889   7.555556   7.111111   17.555556   \n",
       "\n",
       "Q_4                    10-20 years  20+ years  \n",
       "final_mid_salary_cats                          \n",
       "low                       6.052632   5.550239  \n",
       "medium                   16.624430  13.988849  \n",
       "high                     24.888889  38.000000  "
      ]
     },
     "execution_count": 40,
     "metadata": {},
     "output_type": "execute_result"
    }
   ],
   "source": [
    "coding_exp / np.repeat(coding_exp.sum(axis = 1).values, repeats = 6).reshape((3, 6)) * 100"
   ]
  },
  {
   "cell_type": "code",
   "execution_count": 41,
   "id": "a6459fed",
   "metadata": {},
   "outputs": [],
   "source": [
    "coding_exps = new_ppp_cats_data['Q_4'].value_counts().loc[coding_exp_order]\n",
    "# plot_barplot(coding_exp_order, coding_exps.values, rotate_x = 90)\n",
    "\n",
    "starting_points = [0 , 1 , 3 , 5 , 10 , 20]\n",
    "widths =          [1 , 2 , 2 , 5 , 10 , 20]\n",
    "ending_points = np.add(starting_points, widths)\n",
    "mid_points = np.add(starting_points, np.divide(widths, 2))\n",
    "# fig, ax = plt.subplots(1, 1, figsize = (20, 5))\n",
    "# ax.bar(mid_points, coding_exps.values, width = widths)\n",
    "# plt.show()\n",
    "\n",
    "new_coding_exp_data = new_data.copy()\n",
    "new_coding_exp_data['min_coding_exp'] = new_coding_exp_data['Q_4'].apply(lambda x: starting_points[coding_exp_order.index(x)]) / 50\n",
    "new_coding_exp_data['mid_coding_exp'] = new_coding_exp_data['Q_4'].apply(lambda x: mid_points[coding_exp_order.index(x)]) / 50\n",
    "new_coding_exp_data['max_coding_exp'] = new_coding_exp_data['Q_4'].apply(lambda x: ending_points[coding_exp_order.index(x)]) / 50\n",
    "new_coding_exp_data_only_adj = new_coding_exp_data[['min_coding_exp', 'max_coding_exp']]"
   ]
  },
  {
   "cell_type": "code",
   "execution_count": 42,
   "id": "73fd0c0f",
   "metadata": {},
   "outputs": [],
   "source": [
    "%%R -i new_coding_exp_data_only_adj -o alpha -o beta\n",
    "\n",
    "colnames(new_coding_exp_data_only_adj) <- c('left', 'right')\n",
    "fitted_distribution_gamma <- fitdistcens(new_coding_exp_data_only_adj, \"gamma\")\n",
    "\n",
    "# g <- ggplot(new_coding_exp_data_only_adj) +\n",
    "#   stat_function(fun = dgamma, args = fitted_distribution_gamma$estimate, colour = \"blue\")\n",
    "# print(g)\n",
    "\n",
    "alpha <- fitted_distribution_gamma$estimate[['shape']]\n",
    "beta <- fitted_distribution_gamma$estimate[['rate']]"
   ]
  },
  {
   "cell_type": "code",
   "execution_count": 43,
   "id": "f8ef7a8a",
   "metadata": {},
   "outputs": [],
   "source": [
    "coding_exp_bins = [[*x] for x in [*new_coding_exp_data.groupby(['min_coding_exp', 'max_coding_exp'])['kaggler_id'].aggregate('count').index]]\n",
    "coding_exp_bins = pd.DataFrame(coding_exp_bins, columns = ['min', 'max'])"
   ]
  },
  {
   "cell_type": "code",
   "execution_count": 44,
   "id": "9e1fc89c",
   "metadata": {},
   "outputs": [],
   "source": [
    "%%R -i coding_exp_bins -i alpha -i beta -o coding_exp_bins\n",
    "\n",
    "find_actual_mid <- function(min, max, alpha, beta) {\n",
    "  samples <- rgamma(1000000, shape = alpha, rate = beta)\n",
    "  actual_mids <- c()\n",
    "  for (idx in 1:length(min)) {\n",
    "    actual_mids <- c(actual_mids, mean(samples[(samples >= min[idx]) & (samples <= max[idx])]))\n",
    "  }\n",
    "  actual_mids\n",
    "}\n",
    "\n",
    "coding_exp_bins <- coding_exp_bins %>%\n",
    "  mutate(final_mid = find_actual_mid(min, max, alpha, beta))"
   ]
  },
  {
   "cell_type": "code",
   "execution_count": 45,
   "id": "bb6a7c93",
   "metadata": {},
   "outputs": [],
   "source": [
    "new_coding_exp_data = pd.merge(new_coding_exp_data, coding_exp_bins, how = 'inner', left_on = ['min_coding_exp', 'max_coding_exp'], right_on = ['min', 'max'])\n",
    "salary_age_coding_exp_data = pd.merge(new_ppp_data[['final_mid', 'kaggler_id']], new_age_data[['final_mid', 'kaggler_id']], how = 'inner', on = 'kaggler_id', suffixes = ['_salary', '_age'])\n",
    "salary_age_coding_exp_data = pd.merge(salary_age_coding_exp_data, new_coding_exp_data[['final_mid', 'kaggler_id']], how = 'inner', on = 'kaggler_id')\n",
    "salary_age_coding_exp_data = pd.merge(salary_age_coding_exp_data, new_ppp_cats_data[['final_mid_salary_cats', 'kaggler_id']], how = 'inner', on = 'kaggler_id')\n",
    "salary_age_coding_exp_data = salary_age_coding_exp_data.rename(columns = {'final_mid': 'final_mid_coding_exp'})\n",
    "salary_age_coding_exp_data['coding_exp_by_age'] = salary_age_coding_exp_data['final_mid_coding_exp'] * 50 / ((salary_age_coding_exp_data['final_mid_age'] * 100) + 18) * 100"
   ]
  },
  {
   "cell_type": "code",
   "execution_count": 46,
   "id": "9bf2734c",
   "metadata": {},
   "outputs": [
    {
     "data": {
      "text/plain": [
       "final_mid_salary_cats\n",
       "high      32.958113\n",
       "low       12.636664\n",
       "medium    20.940606\n",
       "Name: coding_exp_by_age, dtype: float64"
      ]
     },
     "execution_count": 46,
     "metadata": {},
     "output_type": "execute_result"
    }
   ],
   "source": [
    "# TODO: in R\n",
    "salary_age_coding_exp_data.groupby('final_mid_salary_cats')['coding_exp_by_age'].aggregate('mean')"
   ]
  },
  {
   "cell_type": "markdown",
   "id": "904b91db",
   "metadata": {},
   "source": [
    "### ML experience"
   ]
  },
  {
   "cell_type": "code",
   "execution_count": 47,
   "id": "e701989d",
   "metadata": {},
   "outputs": [],
   "source": [
    "new_ppp_cats_data['Q_6'] = new_ppp_cats_data['Q_6'].map({\n",
    "    '5-10 years': '5-10',\n",
    "    '20 or more years': '20+',\n",
    "    '3-4 years': '3-4',\n",
    "    '4-5 years': '4-5',\n",
    "    'I do not use machine learning methods': '<1',\n",
    "    'Under 1 year': '<1',\n",
    "    '2-3 years': '2-3',\n",
    "    '1-2 years': '1-2',\n",
    "    '10-20 years': '10-20',\n",
    "})\n",
    "\n",
    "ml_exp_order = ['<1', '1-2', '2-3', '3-4', '4-5', '5-10', '10-20', '20+']\n",
    "ml_exp = pd.pivot_table(new_ppp_cats_data.groupby(['final_mid_salary_cats', 'Q_6'])['kaggler_id'].aggregate('count').reset_index(drop = False), index = 'final_mid_salary_cats', columns = 'Q_6')['kaggler_id'][ml_exp_order].loc[['low', 'medium', 'high']]"
   ]
  },
  {
   "cell_type": "code",
   "execution_count": 48,
   "id": "a7c5a3d5",
   "metadata": {},
   "outputs": [
    {
     "data": {
      "text/html": [
       "<div>\n",
       "<style scoped>\n",
       "    .dataframe tbody tr th:only-of-type {\n",
       "        vertical-align: middle;\n",
       "    }\n",
       "\n",
       "    .dataframe tbody tr th {\n",
       "        vertical-align: top;\n",
       "    }\n",
       "\n",
       "    .dataframe thead th {\n",
       "        text-align: right;\n",
       "    }\n",
       "</style>\n",
       "<table border=\"1\" class=\"dataframe\">\n",
       "  <thead>\n",
       "    <tr style=\"text-align: right;\">\n",
       "      <th>Q_6</th>\n",
       "      <th>&lt;1</th>\n",
       "      <th>1-2</th>\n",
       "      <th>2-3</th>\n",
       "      <th>3-4</th>\n",
       "      <th>4-5</th>\n",
       "      <th>5-10</th>\n",
       "      <th>10-20</th>\n",
       "      <th>20+</th>\n",
       "    </tr>\n",
       "    <tr>\n",
       "      <th>final_mid_salary_cats</th>\n",
       "      <th></th>\n",
       "      <th></th>\n",
       "      <th></th>\n",
       "      <th></th>\n",
       "      <th></th>\n",
       "      <th></th>\n",
       "      <th></th>\n",
       "      <th></th>\n",
       "    </tr>\n",
       "  </thead>\n",
       "  <tbody>\n",
       "    <tr>\n",
       "      <th>low</th>\n",
       "      <td>55.550239</td>\n",
       "      <td>23.612440</td>\n",
       "      <td>9.641148</td>\n",
       "      <td>4.497608</td>\n",
       "      <td>3.205742</td>\n",
       "      <td>2.224880</td>\n",
       "      <td>0.933014</td>\n",
       "      <td>0.334928</td>\n",
       "    </tr>\n",
       "    <tr>\n",
       "      <th>medium</th>\n",
       "      <td>38.139888</td>\n",
       "      <td>18.917892</td>\n",
       "      <td>14.166244</td>\n",
       "      <td>8.198175</td>\n",
       "      <td>7.551951</td>\n",
       "      <td>8.667005</td>\n",
       "      <td>2.838317</td>\n",
       "      <td>1.520527</td>\n",
       "    </tr>\n",
       "    <tr>\n",
       "      <th>high</th>\n",
       "      <td>16.666667</td>\n",
       "      <td>10.666667</td>\n",
       "      <td>8.444444</td>\n",
       "      <td>9.111111</td>\n",
       "      <td>10.444444</td>\n",
       "      <td>22.888889</td>\n",
       "      <td>13.333333</td>\n",
       "      <td>8.444444</td>\n",
       "    </tr>\n",
       "  </tbody>\n",
       "</table>\n",
       "</div>"
      ],
      "text/plain": [
       "Q_6                           <1        1-2        2-3       3-4        4-5  \\\n",
       "final_mid_salary_cats                                                         \n",
       "low                    55.550239  23.612440   9.641148  4.497608   3.205742   \n",
       "medium                 38.139888  18.917892  14.166244  8.198175   7.551951   \n",
       "high                   16.666667  10.666667   8.444444  9.111111  10.444444   \n",
       "\n",
       "Q_6                         5-10      10-20       20+  \n",
       "final_mid_salary_cats                                  \n",
       "low                     2.224880   0.933014  0.334928  \n",
       "medium                  8.667005   2.838317  1.520527  \n",
       "high                   22.888889  13.333333  8.444444  "
      ]
     },
     "execution_count": 48,
     "metadata": {},
     "output_type": "execute_result"
    }
   ],
   "source": [
    "# TODO: in R\n",
    "ml_exp / np.repeat(ml_exp.sum(axis = 1).values, repeats = 8).reshape((3, 8)) * 100"
   ]
  },
  {
   "cell_type": "code",
   "execution_count": 49,
   "id": "d18b9f2b",
   "metadata": {},
   "outputs": [],
   "source": [
    "ml_exps = new_ppp_cats_data['Q_6'].value_counts().loc[ml_exp_order]\n",
    "# plot_barplot(ml_exp_order, ml_exps.values, rotate_x = 90)\n",
    "\n",
    "starting_points = [0 , 1 , 2 , 3 , 4 , 5 , 10 , 20]\n",
    "widths =          [1 , 1 , 1 , 1 , 1 , 5 , 10 , 10]\n",
    "ending_points = np.add(starting_points, widths)\n",
    "mid_points = np.add(starting_points, np.divide(widths, 2))\n",
    "# fig, ax = plt.subplots(1, 1, figsize = (20, 5))\n",
    "# ax.bar(mid_points, ml_exps.values, width = widths)\n",
    "# plt.show()\n",
    "\n",
    "new_ml_exp_data = new_data.copy()\n",
    "new_ml_exp_data['Q_6'] = new_ml_exp_data['Q_6'].map({\n",
    "    '5-10 years': '5-10',\n",
    "    '20 or more years': '20+',\n",
    "    '3-4 years': '3-4',\n",
    "    '4-5 years': '4-5',\n",
    "    'I do not use machine learning methods': '<1',\n",
    "    'Under 1 year': '<1',\n",
    "    '2-3 years': '2-3',\n",
    "    '1-2 years': '1-2',\n",
    "    '10-20 years': '10-20',\n",
    "})\n",
    "new_ml_exp_data = new_ml_exp_data[~pd.isnull(new_ml_exp_data['Q_6'])]\n",
    "new_ml_exp_data['min_ml_exp'] = new_ml_exp_data['Q_6'].apply(lambda x: starting_points[ml_exp_order.index(x)]) / 50\n",
    "new_ml_exp_data['mid_ml_exp'] = new_ml_exp_data['Q_6'].apply(lambda x: mid_points[ml_exp_order.index(x)]) / 50\n",
    "new_ml_exp_data['max_ml_exp'] = new_ml_exp_data['Q_6'].apply(lambda x: ending_points[ml_exp_order.index(x)]) / 50\n",
    "new_ml_exp_data_only_adj = new_ml_exp_data[['min_ml_exp', 'max_ml_exp']]"
   ]
  },
  {
   "cell_type": "code",
   "execution_count": 50,
   "id": "94514b9d",
   "metadata": {},
   "outputs": [],
   "source": [
    "%%R -i new_ml_exp_data_only_adj -o alpha -o beta\n",
    "\n",
    "colnames(new_ml_exp_data_only_adj) <- c('left', 'right')\n",
    "\n",
    "fitted_distribution_gamma <- fitdistcens(new_ml_exp_data_only_adj, \"gamma\")\n",
    "\n",
    "# g <- ggplot(new_ml_exp_data_only_adj) +\n",
    "#   stat_function(fun = dgamma, args = fitted_distribution_gamma$estimate, colour = \"blue\")\n",
    "# print(g)\n",
    "\n",
    "alpha <- fitted_distribution_gamma$estimate[['shape']]\n",
    "beta <- fitted_distribution_gamma$estimate[['rate']]"
   ]
  },
  {
   "cell_type": "code",
   "execution_count": 51,
   "id": "b7992f02",
   "metadata": {},
   "outputs": [],
   "source": [
    "ml_exp_bins = [[*x] for x in [*new_ml_exp_data.groupby(['min_ml_exp', 'max_ml_exp'])['kaggler_id'].aggregate('count').index]]\n",
    "ml_exp_bins = pd.DataFrame(ml_exp_bins, columns = ['min', 'max'])"
   ]
  },
  {
   "cell_type": "code",
   "execution_count": 52,
   "id": "a2ba2033",
   "metadata": {},
   "outputs": [],
   "source": [
    "%%R -i ml_exp_bins -i alpha -i beta -o ml_exp_bins\n",
    "\n",
    "find_actual_mid <- function(min, max, alpha, beta) {\n",
    "  samples <- rgamma(1000000, shape = alpha, rate = beta)\n",
    "  actual_mids <- c()\n",
    "  for (idx in 1:length(min)) {\n",
    "    actual_mids <- c(actual_mids, mean(samples[(samples >= min[idx]) & (samples <= max[idx])]))\n",
    "  }\n",
    "  actual_mids\n",
    "}\n",
    "\n",
    "ml_exp_bins <- ml_exp_bins %>%\n",
    "  mutate(final_mid = find_actual_mid(min, max, alpha, beta))"
   ]
  },
  {
   "cell_type": "code",
   "execution_count": 53,
   "id": "5586c9ec",
   "metadata": {},
   "outputs": [],
   "source": [
    "new_ml_exp_data = pd.merge(new_ml_exp_data, ml_exp_bins, how = 'inner', left_on = ['min_ml_exp', 'max_ml_exp'], right_on = ['min', 'max'])\n",
    "salary_age_ml_exp_data = pd.merge(new_ppp_data[['final_mid', 'kaggler_id']], new_age_data[['final_mid', 'kaggler_id']], how = 'inner', on = 'kaggler_id', suffixes = ['_salary', '_age'])\n",
    "salary_age_ml_exp_data = pd.merge(salary_age_ml_exp_data, new_ml_exp_data[['final_mid', 'kaggler_id']], how = 'inner', on = 'kaggler_id')\n",
    "salary_age_ml_exp_data = pd.merge(salary_age_ml_exp_data, new_ppp_cats_data[['final_mid_salary_cats', 'kaggler_id']], how = 'inner', on = 'kaggler_id')\n",
    "salary_age_ml_exp_data = salary_age_ml_exp_data.rename(columns = {'final_mid': 'final_mid_ml_exp'})\n",
    "salary_age_ml_exp_data['ml_exp_by_age'] = salary_age_ml_exp_data['final_mid_ml_exp'] * 50 / ((salary_age_ml_exp_data['final_mid_age'] * 100) + 18) * 100"
   ]
  },
  {
   "cell_type": "code",
   "execution_count": 54,
   "id": "db4e4de9",
   "metadata": {},
   "outputs": [
    {
     "data": {
      "text/plain": [
       "final_mid_salary_cats\n",
       "high      14.378329\n",
       "low        4.341447\n",
       "medium     7.016845\n",
       "Name: ml_exp_by_age, dtype: float64"
      ]
     },
     "execution_count": 54,
     "metadata": {},
     "output_type": "execute_result"
    }
   ],
   "source": [
    "salary_age_ml_exp_data.groupby('final_mid_salary_cats')['ml_exp_by_age'].aggregate('mean')"
   ]
  },
  {
   "cell_type": "markdown",
   "id": "52fd150d",
   "metadata": {},
   "source": [
    "### Money Spent"
   ]
  },
  {
   "cell_type": "code",
   "execution_count": 55,
   "id": "15ea284e",
   "metadata": {},
   "outputs": [],
   "source": [
    "new_ppp_cats_data['Q_11'] = new_ppp_cats_data['Q_11'].map({\n",
    "    '$100-$999': '100_999',\n",
    "    '$10,000-$99,999': '10000_99999',\n",
    "    '$1000-$9,999': '1000_9999',\n",
    "    '$0 ($USD)': '0',\n",
    "    '$1-$99': '1_99',\n",
    "    '$100,000 or more ($USD)': '>100000'\n",
    "})\n",
    "money_spent_order = ['0', '1_99', '100_999', '1000_9999', '10000_99999', '>100000']\n",
    "money_spent = pd.pivot_table(new_ppp_cats_data.groupby(['final_mid_salary_cats', 'Q_11'])['kaggler_id'].aggregate('count').reset_index(drop = False), index = 'final_mid_salary_cats', columns = 'Q_11')['kaggler_id'][money_spent_order].loc[['low', 'medium', 'high']]"
   ]
  },
  {
   "cell_type": "code",
   "execution_count": 56,
   "id": "e2c77e3d",
   "metadata": {},
   "outputs": [
    {
     "data": {
      "text/html": [
       "<div>\n",
       "<style scoped>\n",
       "    .dataframe tbody tr th:only-of-type {\n",
       "        vertical-align: middle;\n",
       "    }\n",
       "\n",
       "    .dataframe tbody tr th {\n",
       "        vertical-align: top;\n",
       "    }\n",
       "\n",
       "    .dataframe thead th {\n",
       "        text-align: right;\n",
       "    }\n",
       "</style>\n",
       "<table border=\"1\" class=\"dataframe\">\n",
       "  <thead>\n",
       "    <tr style=\"text-align: right;\">\n",
       "      <th>Q_11</th>\n",
       "      <th>0</th>\n",
       "      <th>1_99</th>\n",
       "      <th>100_999</th>\n",
       "      <th>1000_9999</th>\n",
       "      <th>10000_99999</th>\n",
       "      <th>&gt;100000</th>\n",
       "    </tr>\n",
       "    <tr>\n",
       "      <th>final_mid_salary_cats</th>\n",
       "      <th></th>\n",
       "      <th></th>\n",
       "      <th></th>\n",
       "      <th></th>\n",
       "      <th></th>\n",
       "      <th></th>\n",
       "    </tr>\n",
       "  </thead>\n",
       "  <tbody>\n",
       "    <tr>\n",
       "      <th>low</th>\n",
       "      <td>47.333659</td>\n",
       "      <td>18.811155</td>\n",
       "      <td>17.294521</td>\n",
       "      <td>11.766145</td>\n",
       "      <td>3.253425</td>\n",
       "      <td>1.541096</td>\n",
       "    </tr>\n",
       "    <tr>\n",
       "      <th>medium</th>\n",
       "      <td>32.411320</td>\n",
       "      <td>9.527468</td>\n",
       "      <td>16.865156</td>\n",
       "      <td>20.130619</td>\n",
       "      <td>12.203867</td>\n",
       "      <td>8.861570</td>\n",
       "    </tr>\n",
       "    <tr>\n",
       "      <th>high</th>\n",
       "      <td>16.143498</td>\n",
       "      <td>3.587444</td>\n",
       "      <td>6.726457</td>\n",
       "      <td>15.246637</td>\n",
       "      <td>18.161435</td>\n",
       "      <td>40.134529</td>\n",
       "    </tr>\n",
       "  </tbody>\n",
       "</table>\n",
       "</div>"
      ],
      "text/plain": [
       "Q_11                           0       1_99    100_999  1000_9999  \\\n",
       "final_mid_salary_cats                                               \n",
       "low                    47.333659  18.811155  17.294521  11.766145   \n",
       "medium                 32.411320   9.527468  16.865156  20.130619   \n",
       "high                   16.143498   3.587444   6.726457  15.246637   \n",
       "\n",
       "Q_11                   10000_99999    >100000  \n",
       "final_mid_salary_cats                          \n",
       "low                       3.253425   1.541096  \n",
       "medium                   12.203867   8.861570  \n",
       "high                     18.161435  40.134529  "
      ]
     },
     "execution_count": 56,
     "metadata": {},
     "output_type": "execute_result"
    }
   ],
   "source": [
    "# TODO: in R\n",
    "money_spent / np.repeat(money_spent.sum(axis = 1).values, repeats = 6).reshape((3, 6)) * 100"
   ]
  },
  {
   "cell_type": "code",
   "execution_count": 78,
   "id": "f05f1668",
   "metadata": {},
   "outputs": [],
   "source": [
    "money_spents = new_ppp_cats_data['Q_11'].value_counts().loc[money_spent_order]\n",
    "# plot_barplot(money_spent_order, money_spents.values, rotate_x = 90)\n",
    "\n",
    "starting_points = [0 , 1  , 100 , 1000 , 10000 , 100000]\n",
    "widths =          [1 , 99 , 900 , 9000 , 90000 , 100000]\n",
    "ending_points = np.add(starting_points, widths)\n",
    "mid_points = np.add(starting_points, np.divide(widths, 2))\n",
    "# fig, ax = plt.subplots(1, 1, figsize = (20, 5))\n",
    "# ax.bar(mid_points, ml_exps.values, width = widths)\n",
    "# plt.show()\n",
    "\n",
    "new_money_spent_data = new_data.copy()\n",
    "new_money_spent_data['Q_11'] = new_money_spent_data['Q_11'].map({\n",
    "    '$100-$999': '100_999',\n",
    "    '$10,000-$99,999': '10000_99999',\n",
    "    '$1000-$9,999': '1000_9999',\n",
    "    '$0 ($USD)': '0',\n",
    "    '$1-$99': '1_99',\n",
    "    '$100,000 or more ($USD)': '>100000'\n",
    "})\n",
    "new_money_spent_data = new_money_spent_data.loc[~pd.isnull(new_money_spent_data['Q_11'])]\n",
    "new_money_spent_data['min_money_spent'] = new_money_spent_data['Q_11'].apply(lambda x: starting_points[money_spent_order.index(x)]) / 100000\n",
    "new_money_spent_data['mid_money_spent'] = new_money_spent_data['Q_11'].apply(lambda x: mid_points[money_spent_order.index(x)]) / 100000\n",
    "new_money_spent_data['max_money_spent'] = new_money_spent_data['Q_11'].apply(lambda x: ending_points[money_spent_order.index(x)]) / 100000\n",
    "new_money_spent_data_only_adj = new_money_spent_data[['min_money_spent', 'max_money_spent']]"
   ]
  },
  {
   "cell_type": "code",
   "execution_count": 79,
   "id": "4115169d",
   "metadata": {},
   "outputs": [],
   "source": [
    "%%R -i new_money_spent_data_only_adj -o alpha -o beta\n",
    "\n",
    "colnames(new_money_spent_data_only_adj) <- c('left', 'right')\n",
    "\n",
    "fitted_distribution_gamma <- fitdistcens(new_money_spent_data_only_adj, \"gamma\")\n",
    "\n",
    "# g <- ggplot(new_money_spent_data_only_adj) +\n",
    "#   stat_function(fun = dgamma, args = fitted_distribution_gamma$estimate, colour = \"blue\")\n",
    "# print(g)\n",
    "\n",
    "alpha <- fitted_distribution_gamma$estimate[['shape']]\n",
    "beta <- fitted_distribution_gamma$estimate[['rate']]"
   ]
  },
  {
   "cell_type": "code",
   "execution_count": 80,
   "id": "4236b644",
   "metadata": {},
   "outputs": [],
   "source": [
    "money_spent_bins = [[*x] for x in [*new_money_spent_data.groupby(['min_money_spent', 'max_money_spent'])['kaggler_id'].aggregate('count').index]]\n",
    "money_spent_bins = pd.DataFrame(money_spent_bins, columns = ['min', 'max'])"
   ]
  },
  {
   "cell_type": "code",
   "execution_count": 81,
   "id": "34dc2ed6",
   "metadata": {},
   "outputs": [],
   "source": [
    "%%R -i money_spent_bins -i alpha -i beta -o money_spent_bins\n",
    "\n",
    "find_actual_mid <- function(min, max, alpha, beta) {\n",
    "  samples <- rgamma(1000000, shape = alpha, rate = beta)\n",
    "  actual_mids <- c()\n",
    "  for (idx in 1:length(min)) {\n",
    "    actual_mids <- c(actual_mids, mean(samples[(samples >= min[idx]) & (samples <= max[idx])]))\n",
    "  }\n",
    "  actual_mids\n",
    "}\n",
    "\n",
    "money_spent_bins <- money_spent_bins %>%\n",
    "  mutate(final_mid = find_actual_mid(min, max, alpha, beta))"
   ]
  },
  {
   "cell_type": "code",
   "execution_count": 82,
   "id": "2a1e6a34",
   "metadata": {},
   "outputs": [],
   "source": [
    "new_money_spent_data = pd.merge(new_money_spent_data, money_spent_bins, how = 'inner', left_on = ['min_money_spent', 'max_money_spent'], right_on = ['min', 'max'])\n",
    "salary_money_spent_data = pd.merge(new_ppp_data[['final_mid', 'kaggler_id']], new_money_spent_data[['final_mid', 'kaggler_id']], how = 'inner', on = 'kaggler_id', suffixes = ['_salary', '_money_spent'])\n",
    "salary_money_spent_data = pd.merge(salary_money_spent_data, new_ppp_cats_data[['final_mid_salary_cats', 'kaggler_id']], how = 'inner', on = 'kaggler_id')\n",
    "salary_money_spent_data['money_spent_by_salary'] = (salary_money_spent_data['final_mid_money_spent'] * 100000 / 5) / (salary_money_spent_data['final_mid_salary'] * 1000000) * 100"
   ]
  },
  {
   "cell_type": "code",
   "execution_count": 83,
   "id": "9ac65cd9",
   "metadata": {},
   "outputs": [
    {
     "data": {
      "text/plain": [
       "final_mid_salary_cats\n",
       "high        4.324470\n",
       "low       137.319009\n",
       "medium     10.296033\n",
       "Name: money_spent_by_salary, dtype: float64"
      ]
     },
     "execution_count": 83,
     "metadata": {},
     "output_type": "execute_result"
    }
   ],
   "source": [
    "salary_money_spent_data.groupby('final_mid_salary_cats')['money_spent_by_salary'].aggregate('mean')"
   ]
  },
  {
   "cell_type": "markdown",
   "id": "40e24b8c",
   "metadata": {},
   "source": [
    "### Machine Learning Model usage"
   ]
  },
  {
   "cell_type": "code",
   "execution_count": 63,
   "id": "11595f34",
   "metadata": {},
   "outputs": [],
   "source": [
    "# ques = 'Which of the following ML algorithms do you use on a regular basis?'\n",
    "# plot_uniq_vals_in_ques(ques, rotation = 90, kaggler_ids = new_ppp_cats_data['kaggler_id'].values)"
   ]
  },
  {
   "cell_type": "code",
   "execution_count": 64,
   "id": "1737ac83",
   "metadata": {},
   "outputs": [],
   "source": [
    "# models = [x.split('Selected Choice - ')[1] for x in raw_data.columns if 'Which of the following ML algorithms do you use on a regular basis?' in x]\n",
    "# models_count = {}\n",
    "# for cat in ['low', 'medium', 'high']:\n",
    "#     cat_data = new_ppp_cats_data[new_ppp_cats_data['final_mid_salary_cats'] == cat]\n",
    "#     models_count[cat] = {}\n",
    "#     for model in models:\n",
    "#         models_count[cat][model] = cat_data['Q_35'].apply(lambda x: 1 if model in x else 0).sum() / cat_data.shape[0] * 100\n",
    "# models_used = pd.DataFrame.from_dict(models_count, orient = 'index')"
   ]
  },
  {
   "cell_type": "code",
   "execution_count": 65,
   "id": "630c7d64",
   "metadata": {},
   "outputs": [],
   "source": [
    "# models_used"
   ]
  },
  {
   "cell_type": "code",
   "execution_count": 66,
   "id": "e2615aba",
   "metadata": {},
   "outputs": [],
   "source": [
    "# models = [x.split('Selected Choice - ')[1] for x in raw_data.columns if 'Which categories of computer vision methods do you use on a regular basis?' in x]\n",
    "# models_count = {}\n",
    "# for cat in ['low', 'medium', 'high']:\n",
    "#     cat_data = new_ppp_cats_data[new_ppp_cats_data['final_mid_salary_cats'] == cat]\n",
    "#     models_count[cat] = {}\n",
    "#     for model in models:\n",
    "#         models_count[cat][model] = cat_data['Q_34'].apply(lambda x: 1 if model in x else 0).sum() / cat_data.shape[0] * 100\n",
    "# models_used = pd.DataFrame.from_dict(models_count, orient = 'index')"
   ]
  },
  {
   "cell_type": "code",
   "execution_count": 67,
   "id": "27eb5e42",
   "metadata": {},
   "outputs": [],
   "source": [
    "# models_used"
   ]
  },
  {
   "cell_type": "code",
   "execution_count": 68,
   "id": "7f4043ca",
   "metadata": {},
   "outputs": [],
   "source": [
    "# models = [x.split('Selected Choice - ')[1] for x in raw_data.columns if 'Which of the following natural language processing (NLP) methods do you use on a regular basis?' in x]\n",
    "# models_count = {}\n",
    "# for cat in ['low', 'medium', 'high']:\n",
    "#     cat_data = new_ppp_cats_data[new_ppp_cats_data['final_mid_salary_cats'] == cat]\n",
    "#     models_count[cat] = {}\n",
    "#     for model in models:\n",
    "#         models_count[cat][model] = cat_data['Q_48'].apply(lambda x: 1 if model in x else 0).sum() / cat_data.shape[0] * 100\n",
    "# models_used = pd.DataFrame.from_dict(models_count, orient = 'index')"
   ]
  },
  {
   "cell_type": "code",
   "execution_count": 69,
   "id": "83b04df2",
   "metadata": {},
   "outputs": [],
   "source": [
    "# models_used"
   ]
  },
  {
   "cell_type": "markdown",
   "id": "cd5c59ea",
   "metadata": {},
   "source": [
    "# High-salary Kagglers"
   ]
  },
  {
   "cell_type": "code",
   "execution_count": 1,
   "id": "a95837bf",
   "metadata": {},
   "outputs": [
    {
     "ename": "NameError",
     "evalue": "name 'gpu_prices_data' is not defined",
     "output_type": "error",
     "traceback": [
      "\u001b[0;31m---------------------------------------------------------------------------\u001b[0m",
      "\u001b[0;31mNameError\u001b[0m                                 Traceback (most recent call last)",
      "\u001b[0;32m<ipython-input-1-e1189b9feb41>\u001b[0m in \u001b[0;36m<module>\u001b[0;34m\u001b[0m\n\u001b[1;32m      1\u001b[0m \u001b[0;31m# TODO: in R\u001b[0m\u001b[0;34m\u001b[0m\u001b[0;34m\u001b[0m\u001b[0;34m\u001b[0m\u001b[0m\n\u001b[0;32m----> 2\u001b[0;31m \u001b[0mprint\u001b[0m\u001b[0;34m(\u001b[0m\u001b[0mgpu_prices_data\u001b[0m\u001b[0;34m.\u001b[0m\u001b[0mgroupby\u001b[0m\u001b[0;34m(\u001b[0m\u001b[0;34m[\u001b[0m\u001b[0;34m'Memory_Capacity_category'\u001b[0m\u001b[0;34m]\u001b[0m\u001b[0;34m)\u001b[0m\u001b[0;34m[\u001b[0m\u001b[0;34m'ppp_price'\u001b[0m\u001b[0;34m]\u001b[0m\u001b[0;34m.\u001b[0m\u001b[0maggregate\u001b[0m\u001b[0;34m(\u001b[0m\u001b[0;34m'median'\u001b[0m\u001b[0;34m)\u001b[0m\u001b[0;34m)\u001b[0m\u001b[0;34m\u001b[0m\u001b[0;34m\u001b[0m\u001b[0m\n\u001b[0m",
      "\u001b[0;31mNameError\u001b[0m: name 'gpu_prices_data' is not defined"
     ]
    }
   ],
   "source": [
    "# TODO: in R\n",
    "print(gpu_prices_data.groupby(['Memory_Capacity_category'])['ppp_price'].aggregate('median'))"
   ]
  },
  {
   "cell_type": "code",
   "execution_count": 71,
   "id": "cf504724",
   "metadata": {},
   "outputs": [
    {
     "name": "stdout",
     "output_type": "stream",
     "text": [
      "Assuming 25% savings -\n",
      "For low salary, 2.07 years of work to buy 1 GPU\n",
      "For mid salary, 21.02 days of work to buy 1 GPU\n",
      "For high salary, 41.75 hours of work to buy 1 GPU\n"
     ]
    }
   ],
   "source": [
    "# TODO: in R\n",
    "median_high_price = gpu_prices_data.groupby(['Memory_Capacity_category'])['ppp_price'].aggregate('median').loc['high']\n",
    "print('Assuming 10% savings are used for buying a GPU -')\n",
    "print(f'For low salary, {median_high_price / ((0 + 5000) * 0.1 / 2):.2f} years of work to buy 1 GPU')\n",
    "print(f'For mid salary, {median_high_price / ((5000 + 175000) * 0.1 / 2) * 365:.2f} days of work to buy 1 GPU')\n",
    "print(f'For high salary, {median_high_price / ((175000 + 2000000) * 0.1 / 2) * 365 * 24:.2f} hours of work to buy 1 GPU')"
   ]
  },
  {
   "cell_type": "code",
   "execution_count": null,
   "id": "84e467c7",
   "metadata": {},
   "outputs": [],
   "source": []
  }
 ],
 "metadata": {
  "kernelspec": {
   "display_name": "Kaggle ML&DL Survey Python",
   "language": "python",
   "name": "kaggle_survey_python"
  },
  "language_info": {
   "codemirror_mode": {
    "name": "ipython",
    "version": 3
   },
   "file_extension": ".py",
   "mimetype": "text/x-python",
   "name": "python",
   "nbconvert_exporter": "python",
   "pygments_lexer": "ipython3",
   "version": "3.8.8"
  }
 },
 "nbformat": 4,
 "nbformat_minor": 5
}
